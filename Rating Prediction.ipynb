{
 "cells": [
  {
   "cell_type": "markdown",
   "metadata": {},
   "source": [
    "# if a stand-up comedy will receive above or below average IMDb rating\n",
    "\n",
    "1) Train weak learners: Random Forrest, Stochastic Gradient Descent.\n",
    "\n",
    "2) Perform a grid search to find optimal parameters for an XGBoost classifier.\n",
    "\n",
    "3) Put all three models into an ensemble."
   ]
  },
  {
   "cell_type": "code",
   "execution_count": 1,
   "metadata": {},
   "outputs": [],
   "source": [
    "import pandas as pd\n",
    "import numpy as np\n",
    "\n",
    "from sklearn import linear_model\n",
    "from sklearn.model_selection import train_test_split\n",
    "from sklearn.ensemble import RandomForestClassifier\n",
    "from sklearn.ensemble import VotingClassifier\n",
    "from sklearn.model_selection import GridSearchCV\n",
    "\n",
    "from xgboost import XGBClassifier\n",
    "\n",
    "import warnings\n",
    "warnings.filterwarnings('ignore')"
   ]
  },
  {
   "cell_type": "code",
   "execution_count": 4,
   "metadata": {},
   "outputs": [],
   "source": [
    "df=pd.read_csv(\"frame4.csv\")"
   ]
  },
  {
   "cell_type": "code",
   "execution_count": 6,
   "metadata": {},
   "outputs": [
    {
     "data": {
      "text/html": [
       "<div>\n",
       "<style scoped>\n",
       "    .dataframe tbody tr th:only-of-type {\n",
       "        vertical-align: middle;\n",
       "    }\n",
       "\n",
       "    .dataframe tbody tr th {\n",
       "        vertical-align: top;\n",
       "    }\n",
       "\n",
       "    .dataframe thead th {\n",
       "        text-align: right;\n",
       "    }\n",
       "</style>\n",
       "<table border=\"1\" class=\"dataframe\">\n",
       "  <thead>\n",
       "    <tr style=\"text-align: right;\">\n",
       "      <th></th>\n",
       "      <th>S No.</th>\n",
       "      <th>Tag</th>\n",
       "      <th>URL</th>\n",
       "      <th>Raw Transcript</th>\n",
       "      <th>Names</th>\n",
       "      <th>Title</th>\n",
       "      <th>Year</th>\n",
       "      <th>Transcript</th>\n",
       "      <th>runtime</th>\n",
       "      <th>rating</th>\n",
       "      <th>...</th>\n",
       "      <th>diversity_ratio</th>\n",
       "      <th>Culture</th>\n",
       "      <th>UK</th>\n",
       "      <th>Crimes</th>\n",
       "      <th>Situational</th>\n",
       "      <th>Immigrants</th>\n",
       "      <th>Relationships</th>\n",
       "      <th>Politics</th>\n",
       "      <th>cluster_LDA</th>\n",
       "      <th>cluster_tfidf</th>\n",
       "    </tr>\n",
       "  </thead>\n",
       "  <tbody>\n",
       "    <tr>\n",
       "      <th>0</th>\n",
       "      <td>0</td>\n",
       "      <td>\\t\\t\\t\\tTom Segura: Sledgehammer (2023) | Tr...</td>\n",
       "      <td>https://scrapsfromtheloft.com/comedy/tom-segur...</td>\n",
       "      <td>['[clacking]', '[soft bamboo flute notes play]...</td>\n",
       "      <td>\\t\\t\\t\\tTom Segura</td>\n",
       "      <td>\\t\\t\\t\\tTom Segura: Sledgehammer</td>\n",
       "      <td>2023</td>\n",
       "      <td>hey hey you   tell me how have you been  ...</td>\n",
       "      <td>61.0</td>\n",
       "      <td>7.1</td>\n",
       "      <td>...</td>\n",
       "      <td>0.326741</td>\n",
       "      <td>0.001729</td>\n",
       "      <td>0.013285</td>\n",
       "      <td>0.126248</td>\n",
       "      <td>0.014998</td>\n",
       "      <td>0.004348</td>\n",
       "      <td>0.830967</td>\n",
       "      <td>0.008424</td>\n",
       "      <td>5</td>\n",
       "      <td>1</td>\n",
       "    </tr>\n",
       "    <tr>\n",
       "      <th>1</th>\n",
       "      <td>1</td>\n",
       "      <td>\\t\\t\\t\\tEddie Izzard: Force Majeure Live (20...</td>\n",
       "      <td>https://scrapsfromtheloft.com/comedy/eddie-izz...</td>\n",
       "      <td>['London. Otherwise it would be a little bit t...</td>\n",
       "      <td>\\t\\t\\t\\tEddie Izzard</td>\n",
       "      <td>\\t\\t\\t\\tEddie Izzard: Force Majeure Live</td>\n",
       "      <td>2013</td>\n",
       "      <td>london otherwise it would be a little bit tric...</td>\n",
       "      <td>85.0</td>\n",
       "      <td>7.3</td>\n",
       "      <td>...</td>\n",
       "      <td>0.317978</td>\n",
       "      <td>0.001048</td>\n",
       "      <td>0.990023</td>\n",
       "      <td>0.000878</td>\n",
       "      <td>0.000503</td>\n",
       "      <td>0.000712</td>\n",
       "      <td>0.002136</td>\n",
       "      <td>0.004701</td>\n",
       "      <td>3</td>\n",
       "      <td>6</td>\n",
       "    </tr>\n",
       "    <tr>\n",
       "      <th>2</th>\n",
       "      <td>2</td>\n",
       "      <td>\\t\\t\\t\\tMarlon Wayans: You Know What It Is (...</td>\n",
       "      <td>https://scrapsfromtheloft.com/comedy/marlon-wa...</td>\n",
       "      <td>['[Hip-hop music playing]', '♪♪', '[Cheers and...</td>\n",
       "      <td>\\t\\t\\t\\tMarlon Wayans</td>\n",
       "      <td>\\t\\t\\t\\tMarlon Wayans: You Know What It Is</td>\n",
       "      <td>2021</td>\n",
       "      <td>miami make some noise  for mr marlon wayans...</td>\n",
       "      <td>58.0</td>\n",
       "      <td>4.0</td>\n",
       "      <td>...</td>\n",
       "      <td>0.271009</td>\n",
       "      <td>0.001495</td>\n",
       "      <td>0.002485</td>\n",
       "      <td>0.592501</td>\n",
       "      <td>0.001018</td>\n",
       "      <td>0.001128</td>\n",
       "      <td>0.400080</td>\n",
       "      <td>0.001292</td>\n",
       "      <td>0</td>\n",
       "      <td>5</td>\n",
       "    </tr>\n",
       "    <tr>\n",
       "      <th>3</th>\n",
       "      <td>3</td>\n",
       "      <td>\\t\\t\\t\\tKyle Kinane: Whiskey Icarus (2012) |...</td>\n",
       "      <td>https://scrapsfromtheloft.com/comedy/kyle-kina...</td>\n",
       "      <td>['Whoo!', 'I’m Kyle Kinane. Kyle Christian Kin...</td>\n",
       "      <td>\\t\\t\\t\\tKyle Kinane</td>\n",
       "      <td>\\t\\t\\t\\tKyle Kinane: Whiskey Icarus</td>\n",
       "      <td>2012</td>\n",
       "      <td>whoo im kyle kinane kyle christian kinane yeah...</td>\n",
       "      <td>60.0</td>\n",
       "      <td>7.9</td>\n",
       "      <td>...</td>\n",
       "      <td>0.341096</td>\n",
       "      <td>0.105144</td>\n",
       "      <td>0.001627</td>\n",
       "      <td>0.099213</td>\n",
       "      <td>0.000956</td>\n",
       "      <td>0.003323</td>\n",
       "      <td>0.786317</td>\n",
       "      <td>0.003420</td>\n",
       "      <td>5</td>\n",
       "      <td>1</td>\n",
       "    </tr>\n",
       "    <tr>\n",
       "      <th>4</th>\n",
       "      <td>4</td>\n",
       "      <td>\\t\\t\\t\\tKyle Kinane: Loose in Chicago (2016)...</td>\n",
       "      <td>https://scrapsfromtheloft.com/comedy/kyle-kina...</td>\n",
       "      <td>['[indistinct chatter]', 'Ladies and gentlemen...</td>\n",
       "      <td>\\t\\t\\t\\tKyle Kinane</td>\n",
       "      <td>\\t\\t\\t\\tKyle Kinane: Loose in Chicago</td>\n",
       "      <td>2016</td>\n",
       "      <td>ladies and gentlemen kyle kinane  well  thank...</td>\n",
       "      <td>77.0</td>\n",
       "      <td>7.1</td>\n",
       "      <td>...</td>\n",
       "      <td>0.360311</td>\n",
       "      <td>0.210421</td>\n",
       "      <td>0.001484</td>\n",
       "      <td>0.102548</td>\n",
       "      <td>0.001601</td>\n",
       "      <td>0.006167</td>\n",
       "      <td>0.656735</td>\n",
       "      <td>0.021043</td>\n",
       "      <td>5</td>\n",
       "      <td>1</td>\n",
       "    </tr>\n",
       "    <tr>\n",
       "      <th>...</th>\n",
       "      <td>...</td>\n",
       "      <td>...</td>\n",
       "      <td>...</td>\n",
       "      <td>...</td>\n",
       "      <td>...</td>\n",
       "      <td>...</td>\n",
       "      <td>...</td>\n",
       "      <td>...</td>\n",
       "      <td>...</td>\n",
       "      <td>...</td>\n",
       "      <td>...</td>\n",
       "      <td>...</td>\n",
       "      <td>...</td>\n",
       "      <td>...</td>\n",
       "      <td>...</td>\n",
       "      <td>...</td>\n",
       "      <td>...</td>\n",
       "      <td>...</td>\n",
       "      <td>...</td>\n",
       "      <td>...</td>\n",
       "      <td>...</td>\n",
       "    </tr>\n",
       "    <tr>\n",
       "      <th>393</th>\n",
       "      <td>421</td>\n",
       "      <td>\\t\\t\\t\\tLOUIS C.K.: 2017 – Full transcript\\t...</td>\n",
       "      <td>https://scrapsfromtheloft.com/comedy/louis-c-k...</td>\n",
       "      <td>['Louis C.K Netflix special filmed in Washingt...</td>\n",
       "      <td>\\t\\t\\t\\tLOUIS C.K.</td>\n",
       "      <td>\\t\\t\\t\\tLOUIS C.K.: 2017</td>\n",
       "      <td>2017</td>\n",
       "      <td>louis ck netflix special filmed in washington ...</td>\n",
       "      <td>NaN</td>\n",
       "      <td>NaN</td>\n",
       "      <td>...</td>\n",
       "      <td>0.287472</td>\n",
       "      <td>0.004457</td>\n",
       "      <td>0.001332</td>\n",
       "      <td>0.001433</td>\n",
       "      <td>0.001133</td>\n",
       "      <td>0.001186</td>\n",
       "      <td>0.942120</td>\n",
       "      <td>0.048339</td>\n",
       "      <td>5</td>\n",
       "      <td>4</td>\n",
       "    </tr>\n",
       "    <tr>\n",
       "      <th>394</th>\n",
       "      <td>422</td>\n",
       "      <td>\\t\\t\\t\\tGeorge Carlin: Jamming in New York (...</td>\n",
       "      <td>https://scrapsfromtheloft.com/comedy/george-ca...</td>\n",
       "      <td>['Jammin’ in New York is George Carlin’s 14th ...</td>\n",
       "      <td>\\t\\t\\t\\tGeorge Carlin</td>\n",
       "      <td>\\t\\t\\t\\tGeorge Carlin: Jamming in New York</td>\n",
       "      <td>1992</td>\n",
       "      <td>jammin in new york is george carlins  album an...</td>\n",
       "      <td>NaN</td>\n",
       "      <td>NaN</td>\n",
       "      <td>...</td>\n",
       "      <td>0.371251</td>\n",
       "      <td>0.996354</td>\n",
       "      <td>0.000596</td>\n",
       "      <td>0.000585</td>\n",
       "      <td>0.000545</td>\n",
       "      <td>0.000675</td>\n",
       "      <td>0.000627</td>\n",
       "      <td>0.000619</td>\n",
       "      <td>1</td>\n",
       "      <td>1</td>\n",
       "    </tr>\n",
       "    <tr>\n",
       "      <th>395</th>\n",
       "      <td>424</td>\n",
       "      <td>\\t\\t\\t\\tReggie Watts: Spatial (2016) – Full ...</td>\n",
       "      <td>https://scrapsfromtheloft.com/comedy/reggie-wa...</td>\n",
       "      <td>['Hello, I’m Thomas. I’m so glad to meet you M...</td>\n",
       "      <td>\\t\\t\\t\\tReggie Watts</td>\n",
       "      <td>\\t\\t\\t\\tReggie Watts: Spatial</td>\n",
       "      <td>2016</td>\n",
       "      <td>hello im thomas im so glad to meet you mum  im...</td>\n",
       "      <td>NaN</td>\n",
       "      <td>NaN</td>\n",
       "      <td>...</td>\n",
       "      <td>0.389581</td>\n",
       "      <td>0.001625</td>\n",
       "      <td>0.868851</td>\n",
       "      <td>0.002999</td>\n",
       "      <td>0.001553</td>\n",
       "      <td>0.001522</td>\n",
       "      <td>0.121899</td>\n",
       "      <td>0.001552</td>\n",
       "      <td>3</td>\n",
       "      <td>3</td>\n",
       "    </tr>\n",
       "    <tr>\n",
       "      <th>396</th>\n",
       "      <td>425</td>\n",
       "      <td>\\t\\t\\t\\tGEORGE CARLIN: COMPLAINTS AND GRIEVA...</td>\n",
       "      <td>https://scrapsfromtheloft.com/comedy/george-ca...</td>\n",
       "      <td>['Complaints and Grievances is a HBO stand-up ...</td>\n",
       "      <td>\\t\\t\\t\\tGEORGE CARLIN</td>\n",
       "      <td>\\t\\t\\t\\tGEORGE CARLIN: COMPLAINTS AND GRIEVA...</td>\n",
       "      <td>2001</td>\n",
       "      <td>complaints and grievances is a hbo standup spe...</td>\n",
       "      <td>NaN</td>\n",
       "      <td>NaN</td>\n",
       "      <td>...</td>\n",
       "      <td>0.390789</td>\n",
       "      <td>0.995896</td>\n",
       "      <td>0.000746</td>\n",
       "      <td>0.000716</td>\n",
       "      <td>0.000604</td>\n",
       "      <td>0.000631</td>\n",
       "      <td>0.000755</td>\n",
       "      <td>0.000653</td>\n",
       "      <td>1</td>\n",
       "      <td>1</td>\n",
       "    </tr>\n",
       "    <tr>\n",
       "      <th>397</th>\n",
       "      <td>426</td>\n",
       "      <td>\\t\\t\\t\\tGeorge Carlin: It’s Bad For Ya (2008...</td>\n",
       "      <td>https://scrapsfromtheloft.com/comedy/george-ca...</td>\n",
       "      <td>['Full transcript of It’s Bad for Ya, final HB...</td>\n",
       "      <td>\\t\\t\\t\\tGeorge Carlin</td>\n",
       "      <td>\\t\\t\\t\\tGeorge Carlin: It’s Bad For Ya</td>\n",
       "      <td>2008</td>\n",
       "      <td>full transcript of its bad for ya final hbo st...</td>\n",
       "      <td>NaN</td>\n",
       "      <td>NaN</td>\n",
       "      <td>...</td>\n",
       "      <td>0.311189</td>\n",
       "      <td>0.995757</td>\n",
       "      <td>0.000698</td>\n",
       "      <td>0.000694</td>\n",
       "      <td>0.000602</td>\n",
       "      <td>0.000696</td>\n",
       "      <td>0.000825</td>\n",
       "      <td>0.000727</td>\n",
       "      <td>1</td>\n",
       "      <td>1</td>\n",
       "    </tr>\n",
       "  </tbody>\n",
       "</table>\n",
       "<p>398 rows × 27 columns</p>\n",
       "</div>"
      ],
      "text/plain": [
       "     S No.                                                Tag  \\\n",
       "0        0    \\t\\t\\t\\tTom Segura: Sledgehammer (2023) | Tr...   \n",
       "1        1    \\t\\t\\t\\tEddie Izzard: Force Majeure Live (20...   \n",
       "2        2    \\t\\t\\t\\tMarlon Wayans: You Know What It Is (...   \n",
       "3        3    \\t\\t\\t\\tKyle Kinane: Whiskey Icarus (2012) |...   \n",
       "4        4    \\t\\t\\t\\tKyle Kinane: Loose in Chicago (2016)...   \n",
       "..     ...                                                ...   \n",
       "393    421    \\t\\t\\t\\tLOUIS C.K.: 2017 – Full transcript\\t...   \n",
       "394    422    \\t\\t\\t\\tGeorge Carlin: Jamming in New York (...   \n",
       "395    424    \\t\\t\\t\\tReggie Watts: Spatial (2016) – Full ...   \n",
       "396    425    \\t\\t\\t\\tGEORGE CARLIN: COMPLAINTS AND GRIEVA...   \n",
       "397    426    \\t\\t\\t\\tGeorge Carlin: It’s Bad For Ya (2008...   \n",
       "\n",
       "                                                   URL  \\\n",
       "0    https://scrapsfromtheloft.com/comedy/tom-segur...   \n",
       "1    https://scrapsfromtheloft.com/comedy/eddie-izz...   \n",
       "2    https://scrapsfromtheloft.com/comedy/marlon-wa...   \n",
       "3    https://scrapsfromtheloft.com/comedy/kyle-kina...   \n",
       "4    https://scrapsfromtheloft.com/comedy/kyle-kina...   \n",
       "..                                                 ...   \n",
       "393  https://scrapsfromtheloft.com/comedy/louis-c-k...   \n",
       "394  https://scrapsfromtheloft.com/comedy/george-ca...   \n",
       "395  https://scrapsfromtheloft.com/comedy/reggie-wa...   \n",
       "396  https://scrapsfromtheloft.com/comedy/george-ca...   \n",
       "397  https://scrapsfromtheloft.com/comedy/george-ca...   \n",
       "\n",
       "                                        Raw Transcript  \\\n",
       "0    ['[clacking]', '[soft bamboo flute notes play]...   \n",
       "1    ['London. Otherwise it would be a little bit t...   \n",
       "2    ['[Hip-hop music playing]', '♪♪', '[Cheers and...   \n",
       "3    ['Whoo!', 'I’m Kyle Kinane. Kyle Christian Kin...   \n",
       "4    ['[indistinct chatter]', 'Ladies and gentlemen...   \n",
       "..                                                 ...   \n",
       "393  ['Louis C.K Netflix special filmed in Washingt...   \n",
       "394  ['Jammin’ in New York is George Carlin’s 14th ...   \n",
       "395  ['Hello, I’m Thomas. I’m so glad to meet you M...   \n",
       "396  ['Complaints and Grievances is a HBO stand-up ...   \n",
       "397  ['Full transcript of It’s Bad for Ya, final HB...   \n",
       "\n",
       "                       Names  \\\n",
       "0         \\t\\t\\t\\tTom Segura   \n",
       "1       \\t\\t\\t\\tEddie Izzard   \n",
       "2      \\t\\t\\t\\tMarlon Wayans   \n",
       "3        \\t\\t\\t\\tKyle Kinane   \n",
       "4        \\t\\t\\t\\tKyle Kinane   \n",
       "..                       ...   \n",
       "393       \\t\\t\\t\\tLOUIS C.K.   \n",
       "394    \\t\\t\\t\\tGeorge Carlin   \n",
       "395     \\t\\t\\t\\tReggie Watts   \n",
       "396    \\t\\t\\t\\tGEORGE CARLIN   \n",
       "397    \\t\\t\\t\\tGeorge Carlin   \n",
       "\n",
       "                                                 Title  Year  \\\n",
       "0                    \\t\\t\\t\\tTom Segura: Sledgehammer   2023   \n",
       "1            \\t\\t\\t\\tEddie Izzard: Force Majeure Live   2013   \n",
       "2          \\t\\t\\t\\tMarlon Wayans: You Know What It Is   2021   \n",
       "3                 \\t\\t\\t\\tKyle Kinane: Whiskey Icarus   2012   \n",
       "4               \\t\\t\\t\\tKyle Kinane: Loose in Chicago   2016   \n",
       "..                                                 ...   ...   \n",
       "393                          \\t\\t\\t\\tLOUIS C.K.: 2017   2017   \n",
       "394        \\t\\t\\t\\tGeorge Carlin: Jamming in New York   1992   \n",
       "395                     \\t\\t\\t\\tReggie Watts: Spatial   2016   \n",
       "396    \\t\\t\\t\\tGEORGE CARLIN: COMPLAINTS AND GRIEVA...  2001   \n",
       "397            \\t\\t\\t\\tGeorge Carlin: It’s Bad For Ya   2008   \n",
       "\n",
       "                                            Transcript  runtime  rating  ...  \\\n",
       "0         hey hey you   tell me how have you been  ...     61.0     7.1  ...   \n",
       "1    london otherwise it would be a little bit tric...     85.0     7.3  ...   \n",
       "2       miami make some noise  for mr marlon wayans...     58.0     4.0  ...   \n",
       "3    whoo im kyle kinane kyle christian kinane yeah...     60.0     7.9  ...   \n",
       "4     ladies and gentlemen kyle kinane  well  thank...     77.0     7.1  ...   \n",
       "..                                                 ...      ...     ...  ...   \n",
       "393  louis ck netflix special filmed in washington ...      NaN     NaN  ...   \n",
       "394  jammin in new york is george carlins  album an...      NaN     NaN  ...   \n",
       "395  hello im thomas im so glad to meet you mum  im...      NaN     NaN  ...   \n",
       "396  complaints and grievances is a hbo standup spe...      NaN     NaN  ...   \n",
       "397  full transcript of its bad for ya final hbo st...      NaN     NaN  ...   \n",
       "\n",
       "    diversity_ratio   Culture        UK    Crimes  Situational  Immigrants  \\\n",
       "0          0.326741  0.001729  0.013285  0.126248     0.014998    0.004348   \n",
       "1          0.317978  0.001048  0.990023  0.000878     0.000503    0.000712   \n",
       "2          0.271009  0.001495  0.002485  0.592501     0.001018    0.001128   \n",
       "3          0.341096  0.105144  0.001627  0.099213     0.000956    0.003323   \n",
       "4          0.360311  0.210421  0.001484  0.102548     0.001601    0.006167   \n",
       "..              ...       ...       ...       ...          ...         ...   \n",
       "393        0.287472  0.004457  0.001332  0.001433     0.001133    0.001186   \n",
       "394        0.371251  0.996354  0.000596  0.000585     0.000545    0.000675   \n",
       "395        0.389581  0.001625  0.868851  0.002999     0.001553    0.001522   \n",
       "396        0.390789  0.995896  0.000746  0.000716     0.000604    0.000631   \n",
       "397        0.311189  0.995757  0.000698  0.000694     0.000602    0.000696   \n",
       "\n",
       "     Relationships  Politics  cluster_LDA  cluster_tfidf  \n",
       "0         0.830967  0.008424            5              1  \n",
       "1         0.002136  0.004701            3              6  \n",
       "2         0.400080  0.001292            0              5  \n",
       "3         0.786317  0.003420            5              1  \n",
       "4         0.656735  0.021043            5              1  \n",
       "..             ...       ...          ...            ...  \n",
       "393       0.942120  0.048339            5              4  \n",
       "394       0.000627  0.000619            1              1  \n",
       "395       0.121899  0.001552            3              3  \n",
       "396       0.000755  0.000653            1              1  \n",
       "397       0.000825  0.000727            1              1  \n",
       "\n",
       "[398 rows x 27 columns]"
      ]
     },
     "execution_count": 6,
     "metadata": {},
     "output_type": "execute_result"
    }
   ],
   "source": [
    "df"
   ]
  },
  {
   "cell_type": "markdown",
   "metadata": {},
   "source": [
    "### One-hot features for cluster assignments"
   ]
  },
  {
   "cell_type": "code",
   "execution_count": 7,
   "metadata": {},
   "outputs": [
    {
     "data": {
      "text/html": [
       "<div>\n",
       "<style scoped>\n",
       "    .dataframe tbody tr th:only-of-type {\n",
       "        vertical-align: middle;\n",
       "    }\n",
       "\n",
       "    .dataframe tbody tr th {\n",
       "        vertical-align: top;\n",
       "    }\n",
       "\n",
       "    .dataframe thead th {\n",
       "        text-align: right;\n",
       "    }\n",
       "</style>\n",
       "<table border=\"1\" class=\"dataframe\">\n",
       "  <thead>\n",
       "    <tr style=\"text-align: right;\">\n",
       "      <th></th>\n",
       "      <th>0_LDA</th>\n",
       "      <th>1_LDA</th>\n",
       "      <th>2_LDA</th>\n",
       "      <th>3_LDA</th>\n",
       "      <th>4_LDA</th>\n",
       "      <th>5_LDA</th>\n",
       "      <th>6_LDA</th>\n",
       "      <th>0_tfidf</th>\n",
       "      <th>1_tfidf</th>\n",
       "      <th>2_tfidf</th>\n",
       "      <th>3_tfidf</th>\n",
       "      <th>4_tfidf</th>\n",
       "      <th>5_tfidf</th>\n",
       "      <th>6_tfidf</th>\n",
       "    </tr>\n",
       "  </thead>\n",
       "  <tbody>\n",
       "    <tr>\n",
       "      <th>0</th>\n",
       "      <td>False</td>\n",
       "      <td>False</td>\n",
       "      <td>False</td>\n",
       "      <td>False</td>\n",
       "      <td>False</td>\n",
       "      <td>True</td>\n",
       "      <td>False</td>\n",
       "      <td>False</td>\n",
       "      <td>True</td>\n",
       "      <td>False</td>\n",
       "      <td>False</td>\n",
       "      <td>False</td>\n",
       "      <td>False</td>\n",
       "      <td>False</td>\n",
       "    </tr>\n",
       "    <tr>\n",
       "      <th>1</th>\n",
       "      <td>False</td>\n",
       "      <td>False</td>\n",
       "      <td>False</td>\n",
       "      <td>True</td>\n",
       "      <td>False</td>\n",
       "      <td>False</td>\n",
       "      <td>False</td>\n",
       "      <td>False</td>\n",
       "      <td>False</td>\n",
       "      <td>False</td>\n",
       "      <td>False</td>\n",
       "      <td>False</td>\n",
       "      <td>False</td>\n",
       "      <td>True</td>\n",
       "    </tr>\n",
       "    <tr>\n",
       "      <th>2</th>\n",
       "      <td>True</td>\n",
       "      <td>False</td>\n",
       "      <td>False</td>\n",
       "      <td>False</td>\n",
       "      <td>False</td>\n",
       "      <td>False</td>\n",
       "      <td>False</td>\n",
       "      <td>False</td>\n",
       "      <td>False</td>\n",
       "      <td>False</td>\n",
       "      <td>False</td>\n",
       "      <td>False</td>\n",
       "      <td>True</td>\n",
       "      <td>False</td>\n",
       "    </tr>\n",
       "    <tr>\n",
       "      <th>3</th>\n",
       "      <td>False</td>\n",
       "      <td>False</td>\n",
       "      <td>False</td>\n",
       "      <td>False</td>\n",
       "      <td>False</td>\n",
       "      <td>True</td>\n",
       "      <td>False</td>\n",
       "      <td>False</td>\n",
       "      <td>True</td>\n",
       "      <td>False</td>\n",
       "      <td>False</td>\n",
       "      <td>False</td>\n",
       "      <td>False</td>\n",
       "      <td>False</td>\n",
       "    </tr>\n",
       "    <tr>\n",
       "      <th>4</th>\n",
       "      <td>False</td>\n",
       "      <td>False</td>\n",
       "      <td>False</td>\n",
       "      <td>False</td>\n",
       "      <td>False</td>\n",
       "      <td>True</td>\n",
       "      <td>False</td>\n",
       "      <td>False</td>\n",
       "      <td>True</td>\n",
       "      <td>False</td>\n",
       "      <td>False</td>\n",
       "      <td>False</td>\n",
       "      <td>False</td>\n",
       "      <td>False</td>\n",
       "    </tr>\n",
       "  </tbody>\n",
       "</table>\n",
       "</div>"
      ],
      "text/plain": [
       "   0_LDA  1_LDA  2_LDA  3_LDA  4_LDA  5_LDA  6_LDA  0_tfidf  1_tfidf  2_tfidf  \\\n",
       "0  False  False  False  False  False   True  False    False     True    False   \n",
       "1  False  False  False   True  False  False  False    False    False    False   \n",
       "2   True  False  False  False  False  False  False    False    False    False   \n",
       "3  False  False  False  False  False   True  False    False     True    False   \n",
       "4  False  False  False  False  False   True  False    False     True    False   \n",
       "\n",
       "   3_tfidf  4_tfidf  5_tfidf  6_tfidf  \n",
       "0    False    False    False    False  \n",
       "1    False    False    False     True  \n",
       "2    False    False     True    False  \n",
       "3    False    False    False    False  \n",
       "4    False    False    False    False  "
      ]
     },
     "execution_count": 7,
     "metadata": {},
     "output_type": "execute_result"
    }
   ],
   "source": [
    "cluster_LDA_dummies = pd.get_dummies(df['cluster_LDA'])\n",
    "LDA_columns = [str(column) + '_LDA' for column in cluster_LDA_dummies.columns]\n",
    "cluster_LDA_dummies.columns = LDA_columns\n",
    "\n",
    "cluster_tfidf_dummies = pd.get_dummies(df['cluster_tfidf'])\n",
    "tfidf_columns = [str(column) + '_tfidf' for column in cluster_tfidf_dummies.columns]\n",
    "cluster_tfidf_dummies.columns = tfidf_columns\n",
    "\n",
    "cluster_df = pd.merge(cluster_LDA_dummies, cluster_tfidf_dummies, right_index=True, left_index=True)\n",
    "cluster_df.head()"
   ]
  },
  {
   "cell_type": "code",
   "execution_count": 8,
   "metadata": {},
   "outputs": [
    {
     "data": {
      "text/plain": [
       "Index(['S No.', 'Tag', 'URL', 'Raw Transcript', 'Names', 'Title', 'Year',\n",
       "       'Transcript', 'runtime', 'rating', 'language', 'rating_type', 'words',\n",
       "       'word_count', 'f_words', 's_words', 'diversity', 'diversity_ratio',\n",
       "       'Culture', 'UK', 'Crimes', 'Situational', 'Immigrants', 'Relationships',\n",
       "       'Politics', 'cluster_LDA', 'cluster_tfidf', '0_LDA', '1_LDA', '2_LDA',\n",
       "       '3_LDA', '4_LDA', '5_LDA', '6_LDA', '0_tfidf', '1_tfidf', '2_tfidf',\n",
       "       '3_tfidf', '4_tfidf', '5_tfidf', '6_tfidf'],\n",
       "      dtype='object')"
      ]
     },
     "execution_count": 8,
     "metadata": {},
     "output_type": "execute_result"
    }
   ],
   "source": [
    "df = pd.merge(df, cluster_df, right_index=True, left_index=True)\n",
    "df.columns"
   ]
  },
  {
   "cell_type": "markdown",
   "metadata": {},
   "source": [
    "### Split data into training and testing sets and train models.\n",
    "\n",
    "- Train Random Forest model\n",
    "\n",
    "- Train SGD model\n",
    "\n",
    "- Perform grid search and train XGB model\n",
    "\n",
    "- Create and ensemble of three classifiers"
   ]
  },
  {
   "cell_type": "markdown",
   "metadata": {},
   "source": [
    "## Only LDA Topic assignments to train the model"
   ]
  },
  {
   "cell_type": "code",
   "execution_count": 9,
   "metadata": {},
   "outputs": [
    {
     "name": "stdout",
     "output_type": "stream",
     "text": [
      "(351, 7)\n",
      "(351,)\n"
     ]
    }
   ],
   "source": [
    "X = np.array(df[['Culture', 'UK', 'Crimes', 'Situational', 'Immigrants', 'Relationships', 'Politics']].loc[df.rating > 0])\n",
    "y = np.array(df.rating_type.loc[df.rating > 0])\n",
    "print(X.shape)\n",
    "print(y.shape)"
   ]
  },
  {
   "cell_type": "code",
   "execution_count": 10,
   "metadata": {},
   "outputs": [],
   "source": [
    "X_train, X_test, y_train, y_test = train_test_split(X, y, test_size=0.15, random_state=1)"
   ]
  },
  {
   "cell_type": "code",
   "execution_count": 11,
   "metadata": {},
   "outputs": [
    {
     "name": "stdout",
     "output_type": "stream",
     "text": [
      "RF score: 0.5849056603773585\n"
     ]
    }
   ],
   "source": [
    "# Random Forrest\n",
    "rf = RandomForestClassifier(n_estimators=101).fit(X_train, y_train)\n",
    "print(f'RF score: {rf.score(X_test, y_test)}')"
   ]
  },
  {
   "cell_type": "code",
   "execution_count": 12,
   "metadata": {},
   "outputs": [
    {
     "name": "stdout",
     "output_type": "stream",
     "text": [
      "SGD score: 0.5660377358490566\n"
     ]
    }
   ],
   "source": [
    "# SGD\n",
    "sgd = linear_model.SGDClassifier(loss='modified_huber').fit(X_train, y_train)\n",
    "print(f'SGD score: {sgd.score(X_test, y_test)}')"
   ]
  },
  {
   "cell_type": "code",
   "execution_count": 13,
   "metadata": {},
   "outputs": [
    {
     "data": {
      "text/html": [
       "<style>#sk-container-id-1 {color: black;}#sk-container-id-1 pre{padding: 0;}#sk-container-id-1 div.sk-toggleable {background-color: white;}#sk-container-id-1 label.sk-toggleable__label {cursor: pointer;display: block;width: 100%;margin-bottom: 0;padding: 0.3em;box-sizing: border-box;text-align: center;}#sk-container-id-1 label.sk-toggleable__label-arrow:before {content: \"▸\";float: left;margin-right: 0.25em;color: #696969;}#sk-container-id-1 label.sk-toggleable__label-arrow:hover:before {color: black;}#sk-container-id-1 div.sk-estimator:hover label.sk-toggleable__label-arrow:before {color: black;}#sk-container-id-1 div.sk-toggleable__content {max-height: 0;max-width: 0;overflow: hidden;text-align: left;background-color: #f0f8ff;}#sk-container-id-1 div.sk-toggleable__content pre {margin: 0.2em;color: black;border-radius: 0.25em;background-color: #f0f8ff;}#sk-container-id-1 input.sk-toggleable__control:checked~div.sk-toggleable__content {max-height: 200px;max-width: 100%;overflow: auto;}#sk-container-id-1 input.sk-toggleable__control:checked~label.sk-toggleable__label-arrow:before {content: \"▾\";}#sk-container-id-1 div.sk-estimator input.sk-toggleable__control:checked~label.sk-toggleable__label {background-color: #d4ebff;}#sk-container-id-1 div.sk-label input.sk-toggleable__control:checked~label.sk-toggleable__label {background-color: #d4ebff;}#sk-container-id-1 input.sk-hidden--visually {border: 0;clip: rect(1px 1px 1px 1px);clip: rect(1px, 1px, 1px, 1px);height: 1px;margin: -1px;overflow: hidden;padding: 0;position: absolute;width: 1px;}#sk-container-id-1 div.sk-estimator {font-family: monospace;background-color: #f0f8ff;border: 1px dotted black;border-radius: 0.25em;box-sizing: border-box;margin-bottom: 0.5em;}#sk-container-id-1 div.sk-estimator:hover {background-color: #d4ebff;}#sk-container-id-1 div.sk-parallel-item::after {content: \"\";width: 100%;border-bottom: 1px solid gray;flex-grow: 1;}#sk-container-id-1 div.sk-label:hover label.sk-toggleable__label {background-color: #d4ebff;}#sk-container-id-1 div.sk-serial::before {content: \"\";position: absolute;border-left: 1px solid gray;box-sizing: border-box;top: 0;bottom: 0;left: 50%;z-index: 0;}#sk-container-id-1 div.sk-serial {display: flex;flex-direction: column;align-items: center;background-color: white;padding-right: 0.2em;padding-left: 0.2em;position: relative;}#sk-container-id-1 div.sk-item {position: relative;z-index: 1;}#sk-container-id-1 div.sk-parallel {display: flex;align-items: stretch;justify-content: center;background-color: white;position: relative;}#sk-container-id-1 div.sk-item::before, #sk-container-id-1 div.sk-parallel-item::before {content: \"\";position: absolute;border-left: 1px solid gray;box-sizing: border-box;top: 0;bottom: 0;left: 50%;z-index: -1;}#sk-container-id-1 div.sk-parallel-item {display: flex;flex-direction: column;z-index: 1;position: relative;background-color: white;}#sk-container-id-1 div.sk-parallel-item:first-child::after {align-self: flex-end;width: 50%;}#sk-container-id-1 div.sk-parallel-item:last-child::after {align-self: flex-start;width: 50%;}#sk-container-id-1 div.sk-parallel-item:only-child::after {width: 0;}#sk-container-id-1 div.sk-dashed-wrapped {border: 1px dashed gray;margin: 0 0.4em 0.5em 0.4em;box-sizing: border-box;padding-bottom: 0.4em;background-color: white;}#sk-container-id-1 div.sk-label label {font-family: monospace;font-weight: bold;display: inline-block;line-height: 1.2em;}#sk-container-id-1 div.sk-label-container {text-align: center;}#sk-container-id-1 div.sk-container {/* jupyter's `normalize.less` sets `[hidden] { display: none; }` but bootstrap.min.css set `[hidden] { display: none !important; }` so we also need the `!important` here to be able to override the default hidden behavior on the sphinx rendered scikit-learn.org. See: https://github.com/scikit-learn/scikit-learn/issues/21755 */display: inline-block !important;position: relative;}#sk-container-id-1 div.sk-text-repr-fallback {display: none;}</style><div id=\"sk-container-id-1\" class=\"sk-top-container\"><div class=\"sk-text-repr-fallback\"><pre>GridSearchCV(cv=3,\n",
       "             estimator=XGBClassifier(base_score=None, booster=None,\n",
       "                                     callbacks=None, colsample_bylevel=None,\n",
       "                                     colsample_bynode=None,\n",
       "                                     colsample_bytree=None,\n",
       "                                     early_stopping_rounds=None,\n",
       "                                     enable_categorical=False, eval_metric=None,\n",
       "                                     feature_types=None, gamma=None,\n",
       "                                     gpu_id=None, grow_policy=None,\n",
       "                                     importance_type=None,\n",
       "                                     interaction_constraints=None,\n",
       "                                     learning_rate=None,...\n",
       "                                     max_leaves=None, min_child_weight=None,\n",
       "                                     missing=nan, monotone_constraints=None,\n",
       "                                     n_estimators=100, n_jobs=None,\n",
       "                                     num_parallel_tree=None, predictor=None,\n",
       "                                     random_state=None, ...),\n",
       "             n_jobs=4,\n",
       "             param_grid={&#x27;colsample_bytree&#x27;: [0.3, 0.4, 0.5, 0.7],\n",
       "                         &#x27;eta&#x27;: [0.05, 0.1, 0.15, 0.2, 0.25, 0.3],\n",
       "                         &#x27;gamma&#x27;: [0.0, 0.1, 0.2, 0.3, 0.4],\n",
       "                         &#x27;max_depth&#x27;: [3, 4, 5, 6, 8, 10, 12, 15],\n",
       "                         &#x27;min_child_weight&#x27;: [1, 3, 5, 7]},\n",
       "             scoring=&#x27;neg_log_loss&#x27;)</pre><b>In a Jupyter environment, please rerun this cell to show the HTML representation or trust the notebook. <br />On GitHub, the HTML representation is unable to render, please try loading this page with nbviewer.org.</b></div><div class=\"sk-container\" hidden><div class=\"sk-item sk-dashed-wrapped\"><div class=\"sk-label-container\"><div class=\"sk-label sk-toggleable\"><input class=\"sk-toggleable__control sk-hidden--visually\" id=\"sk-estimator-id-1\" type=\"checkbox\" ><label for=\"sk-estimator-id-1\" class=\"sk-toggleable__label sk-toggleable__label-arrow\">GridSearchCV</label><div class=\"sk-toggleable__content\"><pre>GridSearchCV(cv=3,\n",
       "             estimator=XGBClassifier(base_score=None, booster=None,\n",
       "                                     callbacks=None, colsample_bylevel=None,\n",
       "                                     colsample_bynode=None,\n",
       "                                     colsample_bytree=None,\n",
       "                                     early_stopping_rounds=None,\n",
       "                                     enable_categorical=False, eval_metric=None,\n",
       "                                     feature_types=None, gamma=None,\n",
       "                                     gpu_id=None, grow_policy=None,\n",
       "                                     importance_type=None,\n",
       "                                     interaction_constraints=None,\n",
       "                                     learning_rate=None,...\n",
       "                                     max_leaves=None, min_child_weight=None,\n",
       "                                     missing=nan, monotone_constraints=None,\n",
       "                                     n_estimators=100, n_jobs=None,\n",
       "                                     num_parallel_tree=None, predictor=None,\n",
       "                                     random_state=None, ...),\n",
       "             n_jobs=4,\n",
       "             param_grid={&#x27;colsample_bytree&#x27;: [0.3, 0.4, 0.5, 0.7],\n",
       "                         &#x27;eta&#x27;: [0.05, 0.1, 0.15, 0.2, 0.25, 0.3],\n",
       "                         &#x27;gamma&#x27;: [0.0, 0.1, 0.2, 0.3, 0.4],\n",
       "                         &#x27;max_depth&#x27;: [3, 4, 5, 6, 8, 10, 12, 15],\n",
       "                         &#x27;min_child_weight&#x27;: [1, 3, 5, 7]},\n",
       "             scoring=&#x27;neg_log_loss&#x27;)</pre></div></div></div><div class=\"sk-parallel\"><div class=\"sk-parallel-item\"><div class=\"sk-item\"><div class=\"sk-label-container\"><div class=\"sk-label sk-toggleable\"><input class=\"sk-toggleable__control sk-hidden--visually\" id=\"sk-estimator-id-2\" type=\"checkbox\" ><label for=\"sk-estimator-id-2\" class=\"sk-toggleable__label sk-toggleable__label-arrow\">estimator: XGBClassifier</label><div class=\"sk-toggleable__content\"><pre>XGBClassifier(base_score=None, booster=None, callbacks=None,\n",
       "              colsample_bylevel=None, colsample_bynode=None,\n",
       "              colsample_bytree=None, early_stopping_rounds=None,\n",
       "              enable_categorical=False, eval_metric=None, feature_types=None,\n",
       "              gamma=None, gpu_id=None, grow_policy=None, importance_type=None,\n",
       "              interaction_constraints=None, learning_rate=None, max_bin=None,\n",
       "              max_cat_threshold=None, max_cat_to_onehot=None,\n",
       "              max_delta_step=None, max_depth=None, max_leaves=None,\n",
       "              min_child_weight=None, missing=nan, monotone_constraints=None,\n",
       "              n_estimators=100, n_jobs=None, num_parallel_tree=None,\n",
       "              predictor=None, random_state=None, ...)</pre></div></div></div><div class=\"sk-serial\"><div class=\"sk-item\"><div class=\"sk-estimator sk-toggleable\"><input class=\"sk-toggleable__control sk-hidden--visually\" id=\"sk-estimator-id-3\" type=\"checkbox\" ><label for=\"sk-estimator-id-3\" class=\"sk-toggleable__label sk-toggleable__label-arrow\">XGBClassifier</label><div class=\"sk-toggleable__content\"><pre>XGBClassifier(base_score=None, booster=None, callbacks=None,\n",
       "              colsample_bylevel=None, colsample_bynode=None,\n",
       "              colsample_bytree=None, early_stopping_rounds=None,\n",
       "              enable_categorical=False, eval_metric=None, feature_types=None,\n",
       "              gamma=None, gpu_id=None, grow_policy=None, importance_type=None,\n",
       "              interaction_constraints=None, learning_rate=None, max_bin=None,\n",
       "              max_cat_threshold=None, max_cat_to_onehot=None,\n",
       "              max_delta_step=None, max_depth=None, max_leaves=None,\n",
       "              min_child_weight=None, missing=nan, monotone_constraints=None,\n",
       "              n_estimators=100, n_jobs=None, num_parallel_tree=None,\n",
       "              predictor=None, random_state=None, ...)</pre></div></div></div></div></div></div></div></div></div></div>"
      ],
      "text/plain": [
       "GridSearchCV(cv=3,\n",
       "             estimator=XGBClassifier(base_score=None, booster=None,\n",
       "                                     callbacks=None, colsample_bylevel=None,\n",
       "                                     colsample_bynode=None,\n",
       "                                     colsample_bytree=None,\n",
       "                                     early_stopping_rounds=None,\n",
       "                                     enable_categorical=False, eval_metric=None,\n",
       "                                     feature_types=None, gamma=None,\n",
       "                                     gpu_id=None, grow_policy=None,\n",
       "                                     importance_type=None,\n",
       "                                     interaction_constraints=None,\n",
       "                                     learning_rate=None,...\n",
       "                                     max_leaves=None, min_child_weight=None,\n",
       "                                     missing=nan, monotone_constraints=None,\n",
       "                                     n_estimators=100, n_jobs=None,\n",
       "                                     num_parallel_tree=None, predictor=None,\n",
       "                                     random_state=None, ...),\n",
       "             n_jobs=4,\n",
       "             param_grid={'colsample_bytree': [0.3, 0.4, 0.5, 0.7],\n",
       "                         'eta': [0.05, 0.1, 0.15, 0.2, 0.25, 0.3],\n",
       "                         'gamma': [0.0, 0.1, 0.2, 0.3, 0.4],\n",
       "                         'max_depth': [3, 4, 5, 6, 8, 10, 12, 15],\n",
       "                         'min_child_weight': [1, 3, 5, 7]},\n",
       "             scoring='neg_log_loss')"
      ]
     },
     "execution_count": 13,
     "metadata": {},
     "output_type": "execute_result"
    }
   ],
   "source": [
    "xgb = XGBClassifier()\n",
    "parameters = {\n",
    "     \"eta\"    : [0.05, 0.10, 0.15, 0.20, 0.25, 0.30 ] ,\n",
    "     \"max_depth\"        : [ 3, 4, 5, 6, 8, 10, 12, 15],\n",
    "     \"min_child_weight\" : [ 1, 3, 5, 7 ],\n",
    "     \"gamma\"            : [ 0.0, 0.1, 0.2 , 0.3, 0.4 ],\n",
    "     \"colsample_bytree\" : [ 0.3, 0.4, 0.5 , 0.7 ]\n",
    "     }\n",
    "\n",
    "grid = GridSearchCV(xgb,\n",
    "                    parameters, n_jobs=4,\n",
    "                    scoring=\"neg_log_loss\",\n",
    "                    cv=3)\n",
    "\n",
    "grid.fit(X_train, y_train)"
   ]
  },
  {
   "cell_type": "code",
   "execution_count": 14,
   "metadata": {},
   "outputs": [
    {
     "name": "stdout",
     "output_type": "stream",
     "text": [
      "Best params: {'colsample_bytree': 0.3, 'eta': 0.05, 'gamma': 0.4, 'max_depth': 3, 'min_child_weight': 7}\n",
      "Best XGB score: 0.5283018867924528\n"
     ]
    }
   ],
   "source": [
    "best_xgb = grid.best_estimator_.fit(X_train, y_train)\n",
    "print(f'Best params: {grid.best_params_}')\n",
    "print(f'Best XGB score: {best_xgb.score(X_test, y_test)}')"
   ]
  },
  {
   "cell_type": "code",
   "execution_count": 16,
   "metadata": {},
   "outputs": [
    {
     "name": "stdout",
     "output_type": "stream",
     "text": [
      "Voting Classifier, Ensemble Acc: 0.5660377358490566\n"
     ]
    }
   ],
   "source": [
    "# Ensemble\n",
    "estimators = [('rf', rf), ('sgd', sgd), ('xgb', best_xgb)]\n",
    "\n",
    "ensemble = VotingClassifier(estimators, voting='soft')\n",
    "ensemble.fit(X_train, y_train)\n",
    "print('Voting Classifier, Ensemble Acc: {}'.format(ensemble.score(X_test, y_test)))"
   ]
  },
  {
   "cell_type": "markdown",
   "metadata": {},
   "source": [
    "## Only Cluster assignments to train the model"
   ]
  },
  {
   "cell_type": "code",
   "execution_count": 17,
   "metadata": {},
   "outputs": [
    {
     "name": "stdout",
     "output_type": "stream",
     "text": [
      "(351, 14)\n",
      "(351,)\n"
     ]
    }
   ],
   "source": [
    "X = np.array(df[['0_LDA', '1_LDA', '2_LDA', '3_LDA',\n",
    "       '4_LDA', '5_LDA', '6_LDA', '0_tfidf', '1_tfidf', '2_tfidf', '3_tfidf',\n",
    "       '4_tfidf', '5_tfidf', '6_tfidf']].loc[df.rating > 0])\n",
    "y = np.array(df.rating_type.loc[df.rating > 0])\n",
    "print(X.shape)\n",
    "print(y.shape)"
   ]
  },
  {
   "cell_type": "code",
   "execution_count": 18,
   "metadata": {},
   "outputs": [],
   "source": [
    "X_train, X_test, y_train, y_test = train_test_split(X, y, test_size=0.15, random_state=1)"
   ]
  },
  {
   "cell_type": "code",
   "execution_count": 18,
   "metadata": {},
   "outputs": [
    {
     "name": "stdout",
     "output_type": "stream",
     "text": [
      "RF score: 0.6888888888888889\n"
     ]
    }
   ],
   "source": [
    "# Random Forrest\n",
    "rf = RandomForestClassifier(n_estimators=101).fit(X_train, y_train)\n",
    "print(f'RF score: {rf.score(X_test, y_test)}')"
   ]
  },
  {
   "cell_type": "code",
   "execution_count": 19,
   "metadata": {},
   "outputs": [
    {
     "name": "stdout",
     "output_type": "stream",
     "text": [
      "SGD score: 0.49056603773584906\n"
     ]
    }
   ],
   "source": [
    "# SGD\n",
    "sgd = linear_model.SGDClassifier(loss='modified_huber').fit(X_train, y_train)\n",
    "print(f'SGD score: {sgd.score(X_test, y_test)}')"
   ]
  },
  {
   "cell_type": "code",
   "execution_count": 20,
   "metadata": {},
   "outputs": [
    {
     "name": "stdout",
     "output_type": "stream",
     "text": [
      "XGB score: 0.5283018867924528\n"
     ]
    }
   ],
   "source": [
    "# XGBoosting\n",
    "xgb = XGBClassifier().fit(X_train, y_train)\n",
    "print(f'XGB score: {xgb.score(X_test, y_test)}')"
   ]
  },
  {
   "cell_type": "code",
   "execution_count": 21,
   "metadata": {},
   "outputs": [
    {
     "name": "stdout",
     "output_type": "stream",
     "text": [
      "Voting Classifier, Ensemble Acc: 0.39622641509433965\n"
     ]
    }
   ],
   "source": [
    "# Ensemble\n",
    "estimators = [('rf', rf), ('sgd', sgd), ('xgb', xgb)]\n",
    "\n",
    "ensemble = VotingClassifier(estimators, voting='soft')\n",
    "ensemble.fit(X_train, y_train)\n",
    "print('Voting Classifier, Ensemble Acc: {}'.format(ensemble.score(X_test, y_test)))"
   ]
  },
  {
   "cell_type": "markdown",
   "metadata": {},
   "source": [
    "## Both cluster assignments and LDA probabilities"
   ]
  },
  {
   "cell_type": "code",
   "execution_count": 22,
   "metadata": {},
   "outputs": [
    {
     "name": "stdout",
     "output_type": "stream",
     "text": [
      "(351, 21)\n",
      "(351,)\n"
     ]
    }
   ],
   "source": [
    "X = np.array(df[['Culture', 'UK', 'Crimes', 'Situational', 'Immigrants', 'Relationships', 'Politics', '0_LDA', '1_LDA', '2_LDA', '3_LDA',\n",
    "                 '4_LDA', '5_LDA', '6_LDA', '0_tfidf', '1_tfidf', '2_tfidf', '3_tfidf',\n",
    "                 '4_tfidf', '5_tfidf', '6_tfidf']].loc[df.rating > 0])\n",
    "y = np.array(df.rating_type.loc[df.rating > 0])\n",
    "print(X.shape)\n",
    "print(y.shape)"
   ]
  },
  {
   "cell_type": "code",
   "execution_count": 24,
   "metadata": {},
   "outputs": [],
   "source": [
    "X_train, X_test, y_train, y_test = train_test_split(X, y, test_size=0.15, random_state=1)"
   ]
  },
  {
   "cell_type": "code",
   "execution_count": 25,
   "metadata": {},
   "outputs": [
    {
     "name": "stdout",
     "output_type": "stream",
     "text": [
      "RF score: 0.5660377358490566\n"
     ]
    }
   ],
   "source": [
    "# Random Forrest\n",
    "rf = RandomForestClassifier(n_estimators=101).fit(X_train, y_train)\n",
    "print(f'RF score: {rf.score(X_test, y_test)}')"
   ]
  },
  {
   "cell_type": "code",
   "execution_count": 26,
   "metadata": {},
   "outputs": [
    {
     "name": "stdout",
     "output_type": "stream",
     "text": [
      "SGD score: 0.5471698113207547\n"
     ]
    }
   ],
   "source": [
    "# SGD\n",
    "sgd = linear_model.SGDClassifier(loss='modified_huber').fit(X_train, y_train)\n",
    "print(f'SGD score: {sgd.score(X_test, y_test)}')"
   ]
  },
  {
   "cell_type": "code",
   "execution_count": 27,
   "metadata": {},
   "outputs": [
    {
     "data": {
      "text/html": [
       "<style>#sk-container-id-2 {color: black;}#sk-container-id-2 pre{padding: 0;}#sk-container-id-2 div.sk-toggleable {background-color: white;}#sk-container-id-2 label.sk-toggleable__label {cursor: pointer;display: block;width: 100%;margin-bottom: 0;padding: 0.3em;box-sizing: border-box;text-align: center;}#sk-container-id-2 label.sk-toggleable__label-arrow:before {content: \"▸\";float: left;margin-right: 0.25em;color: #696969;}#sk-container-id-2 label.sk-toggleable__label-arrow:hover:before {color: black;}#sk-container-id-2 div.sk-estimator:hover label.sk-toggleable__label-arrow:before {color: black;}#sk-container-id-2 div.sk-toggleable__content {max-height: 0;max-width: 0;overflow: hidden;text-align: left;background-color: #f0f8ff;}#sk-container-id-2 div.sk-toggleable__content pre {margin: 0.2em;color: black;border-radius: 0.25em;background-color: #f0f8ff;}#sk-container-id-2 input.sk-toggleable__control:checked~div.sk-toggleable__content {max-height: 200px;max-width: 100%;overflow: auto;}#sk-container-id-2 input.sk-toggleable__control:checked~label.sk-toggleable__label-arrow:before {content: \"▾\";}#sk-container-id-2 div.sk-estimator input.sk-toggleable__control:checked~label.sk-toggleable__label {background-color: #d4ebff;}#sk-container-id-2 div.sk-label input.sk-toggleable__control:checked~label.sk-toggleable__label {background-color: #d4ebff;}#sk-container-id-2 input.sk-hidden--visually {border: 0;clip: rect(1px 1px 1px 1px);clip: rect(1px, 1px, 1px, 1px);height: 1px;margin: -1px;overflow: hidden;padding: 0;position: absolute;width: 1px;}#sk-container-id-2 div.sk-estimator {font-family: monospace;background-color: #f0f8ff;border: 1px dotted black;border-radius: 0.25em;box-sizing: border-box;margin-bottom: 0.5em;}#sk-container-id-2 div.sk-estimator:hover {background-color: #d4ebff;}#sk-container-id-2 div.sk-parallel-item::after {content: \"\";width: 100%;border-bottom: 1px solid gray;flex-grow: 1;}#sk-container-id-2 div.sk-label:hover label.sk-toggleable__label {background-color: #d4ebff;}#sk-container-id-2 div.sk-serial::before {content: \"\";position: absolute;border-left: 1px solid gray;box-sizing: border-box;top: 0;bottom: 0;left: 50%;z-index: 0;}#sk-container-id-2 div.sk-serial {display: flex;flex-direction: column;align-items: center;background-color: white;padding-right: 0.2em;padding-left: 0.2em;position: relative;}#sk-container-id-2 div.sk-item {position: relative;z-index: 1;}#sk-container-id-2 div.sk-parallel {display: flex;align-items: stretch;justify-content: center;background-color: white;position: relative;}#sk-container-id-2 div.sk-item::before, #sk-container-id-2 div.sk-parallel-item::before {content: \"\";position: absolute;border-left: 1px solid gray;box-sizing: border-box;top: 0;bottom: 0;left: 50%;z-index: -1;}#sk-container-id-2 div.sk-parallel-item {display: flex;flex-direction: column;z-index: 1;position: relative;background-color: white;}#sk-container-id-2 div.sk-parallel-item:first-child::after {align-self: flex-end;width: 50%;}#sk-container-id-2 div.sk-parallel-item:last-child::after {align-self: flex-start;width: 50%;}#sk-container-id-2 div.sk-parallel-item:only-child::after {width: 0;}#sk-container-id-2 div.sk-dashed-wrapped {border: 1px dashed gray;margin: 0 0.4em 0.5em 0.4em;box-sizing: border-box;padding-bottom: 0.4em;background-color: white;}#sk-container-id-2 div.sk-label label {font-family: monospace;font-weight: bold;display: inline-block;line-height: 1.2em;}#sk-container-id-2 div.sk-label-container {text-align: center;}#sk-container-id-2 div.sk-container {/* jupyter's `normalize.less` sets `[hidden] { display: none; }` but bootstrap.min.css set `[hidden] { display: none !important; }` so we also need the `!important` here to be able to override the default hidden behavior on the sphinx rendered scikit-learn.org. See: https://github.com/scikit-learn/scikit-learn/issues/21755 */display: inline-block !important;position: relative;}#sk-container-id-2 div.sk-text-repr-fallback {display: none;}</style><div id=\"sk-container-id-2\" class=\"sk-top-container\"><div class=\"sk-text-repr-fallback\"><pre>GridSearchCV(cv=3,\n",
       "             estimator=XGBClassifier(base_score=None, booster=None,\n",
       "                                     callbacks=None, colsample_bylevel=None,\n",
       "                                     colsample_bynode=None,\n",
       "                                     colsample_bytree=None,\n",
       "                                     early_stopping_rounds=None,\n",
       "                                     enable_categorical=False, eval_metric=None,\n",
       "                                     feature_types=None, gamma=None,\n",
       "                                     gpu_id=None, grow_policy=None,\n",
       "                                     importance_type=None,\n",
       "                                     interaction_constraints=None,\n",
       "                                     learning_rate=None,...\n",
       "                                     max_leaves=None, min_child_weight=None,\n",
       "                                     missing=nan, monotone_constraints=None,\n",
       "                                     n_estimators=100, n_jobs=None,\n",
       "                                     num_parallel_tree=None, predictor=None,\n",
       "                                     random_state=None, ...),\n",
       "             n_jobs=4,\n",
       "             param_grid={&#x27;colsample_bytree&#x27;: [0.3, 0.4, 0.5, 0.7],\n",
       "                         &#x27;eta&#x27;: [0.05, 0.1, 0.15, 0.2, 0.25, 0.3],\n",
       "                         &#x27;gamma&#x27;: [0.0, 0.1, 0.2, 0.3, 0.4],\n",
       "                         &#x27;max_depth&#x27;: [3, 4, 5, 6, 8, 10, 12, 15],\n",
       "                         &#x27;min_child_weight&#x27;: [1, 3, 5, 7]},\n",
       "             scoring=&#x27;neg_log_loss&#x27;)</pre><b>In a Jupyter environment, please rerun this cell to show the HTML representation or trust the notebook. <br />On GitHub, the HTML representation is unable to render, please try loading this page with nbviewer.org.</b></div><div class=\"sk-container\" hidden><div class=\"sk-item sk-dashed-wrapped\"><div class=\"sk-label-container\"><div class=\"sk-label sk-toggleable\"><input class=\"sk-toggleable__control sk-hidden--visually\" id=\"sk-estimator-id-4\" type=\"checkbox\" ><label for=\"sk-estimator-id-4\" class=\"sk-toggleable__label sk-toggleable__label-arrow\">GridSearchCV</label><div class=\"sk-toggleable__content\"><pre>GridSearchCV(cv=3,\n",
       "             estimator=XGBClassifier(base_score=None, booster=None,\n",
       "                                     callbacks=None, colsample_bylevel=None,\n",
       "                                     colsample_bynode=None,\n",
       "                                     colsample_bytree=None,\n",
       "                                     early_stopping_rounds=None,\n",
       "                                     enable_categorical=False, eval_metric=None,\n",
       "                                     feature_types=None, gamma=None,\n",
       "                                     gpu_id=None, grow_policy=None,\n",
       "                                     importance_type=None,\n",
       "                                     interaction_constraints=None,\n",
       "                                     learning_rate=None,...\n",
       "                                     max_leaves=None, min_child_weight=None,\n",
       "                                     missing=nan, monotone_constraints=None,\n",
       "                                     n_estimators=100, n_jobs=None,\n",
       "                                     num_parallel_tree=None, predictor=None,\n",
       "                                     random_state=None, ...),\n",
       "             n_jobs=4,\n",
       "             param_grid={&#x27;colsample_bytree&#x27;: [0.3, 0.4, 0.5, 0.7],\n",
       "                         &#x27;eta&#x27;: [0.05, 0.1, 0.15, 0.2, 0.25, 0.3],\n",
       "                         &#x27;gamma&#x27;: [0.0, 0.1, 0.2, 0.3, 0.4],\n",
       "                         &#x27;max_depth&#x27;: [3, 4, 5, 6, 8, 10, 12, 15],\n",
       "                         &#x27;min_child_weight&#x27;: [1, 3, 5, 7]},\n",
       "             scoring=&#x27;neg_log_loss&#x27;)</pre></div></div></div><div class=\"sk-parallel\"><div class=\"sk-parallel-item\"><div class=\"sk-item\"><div class=\"sk-label-container\"><div class=\"sk-label sk-toggleable\"><input class=\"sk-toggleable__control sk-hidden--visually\" id=\"sk-estimator-id-5\" type=\"checkbox\" ><label for=\"sk-estimator-id-5\" class=\"sk-toggleable__label sk-toggleable__label-arrow\">estimator: XGBClassifier</label><div class=\"sk-toggleable__content\"><pre>XGBClassifier(base_score=None, booster=None, callbacks=None,\n",
       "              colsample_bylevel=None, colsample_bynode=None,\n",
       "              colsample_bytree=None, early_stopping_rounds=None,\n",
       "              enable_categorical=False, eval_metric=None, feature_types=None,\n",
       "              gamma=None, gpu_id=None, grow_policy=None, importance_type=None,\n",
       "              interaction_constraints=None, learning_rate=None, max_bin=None,\n",
       "              max_cat_threshold=None, max_cat_to_onehot=None,\n",
       "              max_delta_step=None, max_depth=None, max_leaves=None,\n",
       "              min_child_weight=None, missing=nan, monotone_constraints=None,\n",
       "              n_estimators=100, n_jobs=None, num_parallel_tree=None,\n",
       "              predictor=None, random_state=None, ...)</pre></div></div></div><div class=\"sk-serial\"><div class=\"sk-item\"><div class=\"sk-estimator sk-toggleable\"><input class=\"sk-toggleable__control sk-hidden--visually\" id=\"sk-estimator-id-6\" type=\"checkbox\" ><label for=\"sk-estimator-id-6\" class=\"sk-toggleable__label sk-toggleable__label-arrow\">XGBClassifier</label><div class=\"sk-toggleable__content\"><pre>XGBClassifier(base_score=None, booster=None, callbacks=None,\n",
       "              colsample_bylevel=None, colsample_bynode=None,\n",
       "              colsample_bytree=None, early_stopping_rounds=None,\n",
       "              enable_categorical=False, eval_metric=None, feature_types=None,\n",
       "              gamma=None, gpu_id=None, grow_policy=None, importance_type=None,\n",
       "              interaction_constraints=None, learning_rate=None, max_bin=None,\n",
       "              max_cat_threshold=None, max_cat_to_onehot=None,\n",
       "              max_delta_step=None, max_depth=None, max_leaves=None,\n",
       "              min_child_weight=None, missing=nan, monotone_constraints=None,\n",
       "              n_estimators=100, n_jobs=None, num_parallel_tree=None,\n",
       "              predictor=None, random_state=None, ...)</pre></div></div></div></div></div></div></div></div></div></div>"
      ],
      "text/plain": [
       "GridSearchCV(cv=3,\n",
       "             estimator=XGBClassifier(base_score=None, booster=None,\n",
       "                                     callbacks=None, colsample_bylevel=None,\n",
       "                                     colsample_bynode=None,\n",
       "                                     colsample_bytree=None,\n",
       "                                     early_stopping_rounds=None,\n",
       "                                     enable_categorical=False, eval_metric=None,\n",
       "                                     feature_types=None, gamma=None,\n",
       "                                     gpu_id=None, grow_policy=None,\n",
       "                                     importance_type=None,\n",
       "                                     interaction_constraints=None,\n",
       "                                     learning_rate=None,...\n",
       "                                     max_leaves=None, min_child_weight=None,\n",
       "                                     missing=nan, monotone_constraints=None,\n",
       "                                     n_estimators=100, n_jobs=None,\n",
       "                                     num_parallel_tree=None, predictor=None,\n",
       "                                     random_state=None, ...),\n",
       "             n_jobs=4,\n",
       "             param_grid={'colsample_bytree': [0.3, 0.4, 0.5, 0.7],\n",
       "                         'eta': [0.05, 0.1, 0.15, 0.2, 0.25, 0.3],\n",
       "                         'gamma': [0.0, 0.1, 0.2, 0.3, 0.4],\n",
       "                         'max_depth': [3, 4, 5, 6, 8, 10, 12, 15],\n",
       "                         'min_child_weight': [1, 3, 5, 7]},\n",
       "             scoring='neg_log_loss')"
      ]
     },
     "execution_count": 27,
     "metadata": {},
     "output_type": "execute_result"
    }
   ],
   "source": [
    "xgb = XGBClassifier()\n",
    "parameters = {\n",
    "     \"eta\"    : [0.05, 0.10, 0.15, 0.20, 0.25, 0.30 ] ,\n",
    "     \"max_depth\"        : [ 3, 4, 5, 6, 8, 10, 12, 15],\n",
    "     \"min_child_weight\" : [ 1, 3, 5, 7 ],\n",
    "     \"gamma\"            : [ 0.0, 0.1, 0.2 , 0.3, 0.4 ],\n",
    "     \"colsample_bytree\" : [ 0.3, 0.4, 0.5 , 0.7 ]\n",
    "     }\n",
    "\n",
    "grid = GridSearchCV(xgb,\n",
    "                    parameters, n_jobs=4,\n",
    "                    scoring=\"neg_log_loss\",\n",
    "                    cv=3)\n",
    "\n",
    "grid.fit(X_train, y_train)"
   ]
  },
  {
   "cell_type": "code",
   "execution_count": 28,
   "metadata": {},
   "outputs": [
    {
     "name": "stdout",
     "output_type": "stream",
     "text": [
      "Best params: {'colsample_bytree': 0.3, 'eta': 0.05, 'gamma': 0.4, 'max_depth': 3, 'min_child_weight': 7}\n",
      "Best XGB score: 0.49056603773584906\n"
     ]
    }
   ],
   "source": [
    "best_xgb = grid.best_estimator_.fit(X_train, y_train)\n",
    "print(f'Best params: {grid.best_params_}')\n",
    "print(f'Best XGB score: {best_xgb.score(X_test, y_test)}')"
   ]
  },
  {
   "cell_type": "code",
   "execution_count": 29,
   "metadata": {},
   "outputs": [
    {
     "name": "stdout",
     "output_type": "stream",
     "text": [
      "Voting Classifier, Ensemble Acc: 0.5849056603773585\n"
     ]
    }
   ],
   "source": [
    "# Ensemble\n",
    "estimators = [('rf', rf), ('sgd', sgd), ('xgb', best_xgb)]\n",
    "\n",
    "ensemble = VotingClassifier(estimators, voting='soft')\n",
    "ensemble.fit(X_train, y_train)\n",
    "print('Voting Classifier, Ensemble Acc: {}'.format(ensemble.score(X_test, y_test)))"
   ]
  },
  {
   "cell_type": "markdown",
   "metadata": {},
   "source": [
    "### The Random Forest performed the best at 0.68 accuracy when taking only cluster assignments."
   ]
  },
  {
   "cell_type": "code",
   "execution_count": null,
   "metadata": {},
   "outputs": [],
   "source": []
  }
 ],
 "metadata": {
  "kernelspec": {
   "display_name": "Python 3 (ipykernel)",
   "language": "python",
   "name": "python3"
  },
  "language_info": {
   "codemirror_mode": {
    "name": "ipython",
    "version": 3
   },
   "file_extension": ".py",
   "mimetype": "text/x-python",
   "name": "python",
   "nbconvert_exporter": "python",
   "pygments_lexer": "ipython3",
   "version": "3.11.4"
  }
 },
 "nbformat": 4,
 "nbformat_minor": 4
}
