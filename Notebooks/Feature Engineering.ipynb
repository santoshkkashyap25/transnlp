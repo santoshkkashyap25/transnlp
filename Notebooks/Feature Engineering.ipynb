{
 "cells": [
  {
   "cell_type": "markdown",
   "metadata": {},
   "source": [
    "# Exploratory Data Analysis"
   ]
  },
  {
   "cell_type": "code",
   "execution_count": null,
   "metadata": {},
   "outputs": [],
   "source": [
    "import pandas as pd\n",
    "import numpy as np\n",
    "\n",
    "import seaborn as sns\n",
    "sns.set(color_codes=True)\n",
    "%config InlineBackend.figure_formats = ['retina']\n",
    "\n",
    "import string\n",
    "from wordcloud import WordCloud\n",
    "from collections import Counter\n",
    "\n",
    "import nltk\n",
    "nltk.download('stopwords')\n",
    "from sklearn.feature_extraction.text import CountVectorizer\n",
    "from nltk.corpus import stopwords\n",
    "from nltk import word_tokenize\n",
    "from gensim.utils import simple_preprocess\n",
    "\n",
    "import warnings\n",
    "warnings.filterwarnings('ignore')"
   ]
  },
  {
   "cell_type": "code",
   "execution_count": null,
   "metadata": {},
   "outputs": [],
   "source": [
    "frame=pd.read_csv(\"frame.csv\")"
   ]
  },
  {
   "cell_type": "markdown",
   "metadata": {},
   "source": [
    "## Stats and KDE plot"
   ]
  },
  {
   "cell_type": "code",
   "execution_count": null,
   "metadata": {},
   "outputs": [],
   "source": [
    "# Stats and KDE(Kernel Density Estimation) plot for character count of each transcript\n",
    "x = [len(x) for x in frame.Transcript]\n",
    "ax = sns.kdeplot(x, shade=True, color=\"b\")\n",
    "ax.set_title('Transcript Character Count KDE')\n",
    "mean = np.array(x).mean()\n",
    "sd = np.array(x).std()\n",
    "print(f'Mean: {mean}')\n",
    "print(f'SD: {sd}')"
   ]
  },
  {
   "cell_type": "code",
   "execution_count": null,
   "metadata": {},
   "outputs": [],
   "source": [
    "# Stats and KDE plot for runtime of each performance\n",
    "x = []\n",
    "count = 0\n",
    "for i in frame.runtime:\n",
    "    if (i > 0):\n",
    "        count += 1\n",
    "        x.append(int(i))\n",
    "ax = sns.kdeplot(x, shade=True, color=\"r\")   \n",
    "ax.set_title('Runtime KDE')\n",
    "ax.set(xlabel='minutes')\n",
    "mean = np.array(x).mean()\n",
    "sd = np.array(x).std()\n",
    "print(f'Mean: {mean}')\n",
    "print(f'SD: {sd}')"
   ]
  },
  {
   "cell_type": "code",
   "execution_count": null,
   "metadata": {},
   "outputs": [],
   "source": [
    "# Stats and KDE plot for IMDb rating of each performance\n",
    "x = []\n",
    "count = 0\n",
    "for i in frame.rating:\n",
    "    if (i > 0):\n",
    "        count += 1\n",
    "        x.append(i)\n",
    "ax = sns.kdeplot(x, shade=True, color=\"g\")   \n",
    "ax.set_title('IMDb Rating KDE')\n",
    "mean = np.array(x).mean()\n",
    "sd = np.array(x).std()\n",
    "print(f'Mean: {mean}')\n",
    "print(f'SD: {sd}')"
   ]
  },
  {
   "cell_type": "markdown",
   "metadata": {},
   "source": [
    "## Rating Type\n",
    "Give a 1 for any rating above the mean, and a 0 otherwise. This will be our target for a classification ."
   ]
  },
  {
   "cell_type": "code",
   "execution_count": null,
   "metadata": {},
   "outputs": [],
   "source": [
    "frame['rating_type'] = frame.rating.apply(lambda x: 1 if x >= frame.rating.mean() else 0)\n",
    "ax = sns.countplot(x='rating_type', data=frame)\n",
    "ax.set(xticklabels=['High rating (> mean)', 'Low rating (< mean)'])\n",
    "ax.set(title='Counts of specials with higher or lower than average ratings')"
   ]
  },
  {
   "cell_type": "markdown",
   "metadata": {},
   "source": [
    "## Most Common Words"
   ]
  },
  {
   "cell_type": "code",
   "execution_count": null,
   "metadata": {},
   "outputs": [],
   "source": [
    "# Form the document-term matrix\n",
    "cv = CountVectorizer(stop_words='english')\n",
    "data_cv = cv.fit_transform(frame.Transcript)\n",
    "data_dtm = pd.DataFrame(data_cv.toarray(), columns=cv.get_feature_names_out())\n",
    "data_dtm.index = frame.index\n",
    "data = data_dtm.transpose()"
   ]
  },
  {
   "cell_type": "code",
   "execution_count": null,
   "metadata": {
    "jupyter": {
     "outputs_hidden": true
    }
   },
   "outputs": [],
   "source": [
    "# top 30 words said by each comedian\n",
    "top_dict = {}\n",
    "for c in data.columns:\n",
    "    top = data[c].sort_values(ascending=False).head(30)\n",
    "    top_dict[c]= list(zip(top.index, top.values))\n",
    "top_dict"
   ]
  },
  {
   "cell_type": "code",
   "execution_count": null,
   "metadata": {
    "jupyter": {
     "outputs_hidden": true
    }
   },
   "outputs": [],
   "source": [
    "# most common top words for each comedian\n",
    "words = []\n",
    "for comedian in data.columns:\n",
    "    top = [word for (word, count) in top_dict[comedian]]\n",
    "    for t in top:\n",
    "        words.append(t)   \n",
    "# most common words along with how many routines they occur in\n",
    "Counter(words).most_common()"
   ]
  },
  {
   "cell_type": "code",
   "execution_count": null,
   "metadata": {},
   "outputs": [],
   "source": [
    "# word cloud to visualize the most common words.\n",
    "wordcloud = WordCloud(background_color=\"white\", max_words=5000, contour_width=3, contour_color='midnightblue')\n",
    "print(frame.Title[60])\n",
    "wordcloud.generate(' '.join(frame.words[60]))\n",
    "wordcloud.to_image()"
   ]
  },
  {
   "cell_type": "markdown",
   "metadata": {},
   "source": [
    "## Size of Vocabulary"
   ]
  },
  {
   "cell_type": "code",
   "execution_count": null,
   "metadata": {},
   "outputs": [],
   "source": [
    "# Tokenization words with Gensim simple_preprocess method\n",
    "stop_words = stopwords.words('english')\n",
    "stop_words.extend(['audience', 'laughter', 'laughing', 'announcer', 'narrator', 'cos']) # Extra words to remove, specific to this dataset\n",
    "\n",
    "# Tokenize, lowercase, remove punctuation and remove stopwords in one line\n",
    "frame['words'] = frame.Transcript.apply(lambda x: [word for word in simple_preprocess(x, deacc=True) if word not in stop_words])\n",
    "\n",
    "# word count\n",
    "frame['word_count'] = frame.words.apply(lambda x: len(x))"
   ]
  },
  {
   "cell_type": "markdown",
   "metadata": {},
   "source": [
    "## Amount of Profanity"
   ]
  },
  {
   "cell_type": "code",
   "execution_count": null,
   "metadata": {},
   "outputs": [],
   "source": [
    "# Count the number of times an 'F' or 'S' word is used, then remove them\n",
    "def get_swear_counts(input_list, swear_list):\n",
    "    swears = 0\n",
    "    for word in input_list:\n",
    "        if word.lower()in swear_list:\n",
    "            swears += 1\n",
    "    return swears\n",
    "\n",
    "f_words = ['fuck', 'fucking', 'fckin','fucken','fucked','fck','fcking','fuckin', 'fucker', 'muthafucka', 'motherfuckers', 'motherfucke','motha','motherfucking','motherfuckin','motherfuckers', 'motherfucker']\n",
    "s_words = ['shit', 'shitter', 'shitting', 'shite', 'bullshit', 'shitty']\n",
    "\n",
    "frame['f_words'] = frame.words.apply(lambda x: get_swear_counts(x, f_words))\n",
    "frame['s_words'] = frame.words.apply(lambda x: get_swear_counts(x, s_words))\n",
    "\n",
    "swears = f_words + s_words + ['cunt', 'asshole', 'damn', 'goddamn', 'cocksucker','sluts','dicks','dick','pussy','ass','asshole','assholes','porn','penis','tit']\n",
    "\n",
    "frame['words'] = frame.words.apply(lambda x: [word for word in x if word not in swears])"
   ]
  },
  {
   "cell_type": "markdown",
   "metadata": {},
   "source": [
    "# Feature Engineering\n",
    "diversity_ratio feature : (diversity of words) / (total words)"
   ]
  },
  {
   "cell_type": "code",
   "execution_count": null,
   "metadata": {},
   "outputs": [],
   "source": [
    "frame['diversity'] = frame.words.apply(lambda x: len(set(x)))\n",
    "frame['diversity_ratio'] = frame.diversity / frame.word_count"
   ]
  },
  {
   "cell_type": "markdown",
   "metadata": {},
   "source": [
    "# correlations"
   ]
  },
  {
   "cell_type": "code",
   "execution_count": null,
   "metadata": {
    "scrolled": true
   },
   "outputs": [],
   "source": [
    "sns.pairplot(frame[['diversity_ratio', 'diversity', 'word_count', 'runtime', 'rating', 'rating_type']])"
   ]
  },
  {
   "cell_type": "code",
   "execution_count": null,
   "metadata": {},
   "outputs": [],
   "source": [
    "# Saving the csv file\n",
    "frame.to_csv(\"frame2.csv\", index=False)"
   ]
  },
  {
   "cell_type": "code",
   "execution_count": 5,
   "metadata": {},
   "outputs": [],
   "source": [
    "df=pd.read_csv(r\"D:\\PROJECTS\\transnlp\\data\\processed\\processed_content_data.csv\")"
   ]
  },
  {
   "cell_type": "code",
   "execution_count": 6,
   "metadata": {},
   "outputs": [
    {
     "name": "stdout",
     "output_type": "stream",
     "text": [
      "<class 'pandas.core.frame.DataFrame'>\n",
      "RangeIndex: 500 entries, 0 to 499\n",
      "Data columns (total 19 columns):\n",
      " #   Column                Non-Null Count  Dtype  \n",
      "---  ------                --------------  -----  \n",
      " 0   S No.                 500 non-null    int64  \n",
      " 1   Tag                   500 non-null    object \n",
      " 2   URL                   500 non-null    object \n",
      " 3   Raw Transcript        500 non-null    object \n",
      " 4   Transcript            500 non-null    object \n",
      " 5   CleanTag              500 non-null    object \n",
      " 6   Year                  465 non-null    float64\n",
      " 7   Names                 500 non-null    object \n",
      " 8   Title                 480 non-null    object \n",
      " 9   runtime               434 non-null    float64\n",
      " 10  rating                425 non-null    float64\n",
      " 11  language              500 non-null    object \n",
      " 12  preprocessed_content  500 non-null    object \n",
      " 13  rating_type           425 non-null    object \n",
      " 14  f_words               500 non-null    int64  \n",
      " 15  s_words               500 non-null    int64  \n",
      " 16  word_count            500 non-null    int64  \n",
      " 17  diversity             500 non-null    int64  \n",
      " 18  diversity_ratio       500 non-null    float64\n",
      "dtypes: float64(4), int64(5), object(10)\n",
      "memory usage: 74.3+ KB\n"
     ]
    }
   ],
   "source": [
    "df.info()"
   ]
  },
  {
   "cell_type": "code",
   "execution_count": 7,
   "metadata": {},
   "outputs": [
    {
     "data": {
      "text/html": [
       "<div>\n",
       "<style scoped>\n",
       "    .dataframe tbody tr th:only-of-type {\n",
       "        vertical-align: middle;\n",
       "    }\n",
       "\n",
       "    .dataframe tbody tr th {\n",
       "        vertical-align: top;\n",
       "    }\n",
       "\n",
       "    .dataframe thead th {\n",
       "        text-align: right;\n",
       "    }\n",
       "</style>\n",
       "<table border=\"1\" class=\"dataframe\">\n",
       "  <thead>\n",
       "    <tr style=\"text-align: right;\">\n",
       "      <th></th>\n",
       "      <th>S No.</th>\n",
       "      <th>Tag</th>\n",
       "      <th>URL</th>\n",
       "      <th>Raw Transcript</th>\n",
       "      <th>Transcript</th>\n",
       "      <th>CleanTag</th>\n",
       "      <th>Year</th>\n",
       "      <th>Names</th>\n",
       "      <th>Title</th>\n",
       "      <th>runtime</th>\n",
       "      <th>rating</th>\n",
       "      <th>language</th>\n",
       "      <th>preprocessed_content</th>\n",
       "      <th>rating_type</th>\n",
       "      <th>f_words</th>\n",
       "      <th>s_words</th>\n",
       "      <th>word_count</th>\n",
       "      <th>diversity</th>\n",
       "      <th>diversity_ratio</th>\n",
       "    </tr>\n",
       "  </thead>\n",
       "  <tbody>\n",
       "    <tr>\n",
       "      <th>0</th>\n",
       "      <td>0</td>\n",
       "      <td>Michelle Buteau: Welcome to Buteaupia (2020)  ...</td>\n",
       "      <td>https://scrapsfromtheloft.com/comedy/michelle-...</td>\n",
       "      <td>['Michelle Buteau’s Netflix special Welcome to...</td>\n",
       "      <td>michelle buteaus netflix special welcome to bu...</td>\n",
       "      <td>Michelle Buteau: Welcome to Buteaupia (2020)</td>\n",
       "      <td>2020.0</td>\n",
       "      <td>Michelle Buteau</td>\n",
       "      <td>Welcome to Buteaupia</td>\n",
       "      <td>58.0</td>\n",
       "      <td>7.0</td>\n",
       "      <td>en</td>\n",
       "      <td>michelle buteaus welcome buteaupia showcase ch...</td>\n",
       "      <td>Above Average</td>\n",
       "      <td>22</td>\n",
       "      <td>24</td>\n",
       "      <td>3222</td>\n",
       "      <td>833</td>\n",
       "      <td>0.258535</td>\n",
       "    </tr>\n",
       "    <tr>\n",
       "      <th>1</th>\n",
       "      <td>1</td>\n",
       "      <td>Theo Von: No Offense (2016) | Transcript</td>\n",
       "      <td>https://scrapsfromtheloft.com/comedy/theo-von-...</td>\n",
       "      <td>['Theo Von: No Offense was recorded at the Civ...</td>\n",
       "      <td>theo von no offense was recorded at the civic ...</td>\n",
       "      <td>Theo Von: No Offense (2016)</td>\n",
       "      <td>2016.0</td>\n",
       "      <td>Theo Von</td>\n",
       "      <td>No Offense</td>\n",
       "      <td>67.0</td>\n",
       "      <td>5.8</td>\n",
       "      <td>en</td>\n",
       "      <td>theo von offense wa recorded civic theatre orl...</td>\n",
       "      <td>Below Average</td>\n",
       "      <td>37</td>\n",
       "      <td>35</td>\n",
       "      <td>3777</td>\n",
       "      <td>1215</td>\n",
       "      <td>0.321684</td>\n",
       "    </tr>\n",
       "    <tr>\n",
       "      <th>2</th>\n",
       "      <td>2</td>\n",
       "      <td>Nate Bargatze’s Nashville Christmas (2024) | T...</td>\n",
       "      <td>https://scrapsfromtheloft.com/comedy/nate-barg...</td>\n",
       "      <td>['Nate Bargatze’s Nashville Christmas is a hea...</td>\n",
       "      <td>nate bargatzes nashville christmas is a heartw...</td>\n",
       "      <td>Nate Bargatze’s Nashville Christmas (2024)</td>\n",
       "      <td>2024.0</td>\n",
       "      <td>Nate Bargatze’s</td>\n",
       "      <td>Nashville Christmas</td>\n",
       "      <td>61.0</td>\n",
       "      <td>6.8</td>\n",
       "      <td>en</td>\n",
       "      <td>nate bargatzes christmas heartwarming holiday ...</td>\n",
       "      <td>Below Average</td>\n",
       "      <td>0</td>\n",
       "      <td>0</td>\n",
       "      <td>2451</td>\n",
       "      <td>890</td>\n",
       "      <td>0.363117</td>\n",
       "    </tr>\n",
       "    <tr>\n",
       "      <th>3</th>\n",
       "      <td>3</td>\n",
       "      <td>Your Friend, Nate Bargatze (2024) | Transcript</td>\n",
       "      <td>https://scrapsfromtheloft.com/comedy/your-frie...</td>\n",
       "      <td>['Your Friend, Nate Bargatze (2024)\\nGenre: Co...</td>\n",
       "      <td>your friend nate bargatze  comedy standupdirec...</td>\n",
       "      <td>Your Friend, Nate Bargatze (2024)</td>\n",
       "      <td>2024.0</td>\n",
       "      <td>Nate Bargatze</td>\n",
       "      <td>Your Friend,</td>\n",
       "      <td>63.0</td>\n",
       "      <td>7.2</td>\n",
       "      <td>en</td>\n",
       "      <td>friend nate bargatze comedy standupdirector po...</td>\n",
       "      <td>Above Average</td>\n",
       "      <td>0</td>\n",
       "      <td>0</td>\n",
       "      <td>2684</td>\n",
       "      <td>755</td>\n",
       "      <td>0.281297</td>\n",
       "    </tr>\n",
       "    <tr>\n",
       "      <th>4</th>\n",
       "      <td>4</td>\n",
       "      <td>Ronny Chieng: Love to Hate It (2024) | Transcript</td>\n",
       "      <td>https://scrapsfromtheloft.com/comedy/ronny-chi...</td>\n",
       "      <td>['[tuning]', '[gentle Hawaiian music playing o...</td>\n",
       "      <td>tuning gentle hawaiian music playing over radi...</td>\n",
       "      <td>Ronny Chieng: Love to Hate It (2024)</td>\n",
       "      <td>2024.0</td>\n",
       "      <td>Ronny Chieng</td>\n",
       "      <td>Love to Hate It</td>\n",
       "      <td>65.0</td>\n",
       "      <td>7.1</td>\n",
       "      <td>en</td>\n",
       "      <td>tuning music playing radio revving announcer l...</td>\n",
       "      <td>Above Average</td>\n",
       "      <td>40</td>\n",
       "      <td>14</td>\n",
       "      <td>3640</td>\n",
       "      <td>1197</td>\n",
       "      <td>0.328846</td>\n",
       "    </tr>\n",
       "  </tbody>\n",
       "</table>\n",
       "</div>"
      ],
      "text/plain": [
       "   S No.                                                Tag  \\\n",
       "0      0  Michelle Buteau: Welcome to Buteaupia (2020)  ...   \n",
       "1      1           Theo Von: No Offense (2016) | Transcript   \n",
       "2      2  Nate Bargatze’s Nashville Christmas (2024) | T...   \n",
       "3      3     Your Friend, Nate Bargatze (2024) | Transcript   \n",
       "4      4  Ronny Chieng: Love to Hate It (2024) | Transcript   \n",
       "\n",
       "                                                 URL  \\\n",
       "0  https://scrapsfromtheloft.com/comedy/michelle-...   \n",
       "1  https://scrapsfromtheloft.com/comedy/theo-von-...   \n",
       "2  https://scrapsfromtheloft.com/comedy/nate-barg...   \n",
       "3  https://scrapsfromtheloft.com/comedy/your-frie...   \n",
       "4  https://scrapsfromtheloft.com/comedy/ronny-chi...   \n",
       "\n",
       "                                      Raw Transcript  \\\n",
       "0  ['Michelle Buteau’s Netflix special Welcome to...   \n",
       "1  ['Theo Von: No Offense was recorded at the Civ...   \n",
       "2  ['Nate Bargatze’s Nashville Christmas is a hea...   \n",
       "3  ['Your Friend, Nate Bargatze (2024)\\nGenre: Co...   \n",
       "4  ['[tuning]', '[gentle Hawaiian music playing o...   \n",
       "\n",
       "                                          Transcript  \\\n",
       "0  michelle buteaus netflix special welcome to bu...   \n",
       "1  theo von no offense was recorded at the civic ...   \n",
       "2  nate bargatzes nashville christmas is a heartw...   \n",
       "3  your friend nate bargatze  comedy standupdirec...   \n",
       "4  tuning gentle hawaiian music playing over radi...   \n",
       "\n",
       "                                       CleanTag    Year            Names  \\\n",
       "0  Michelle Buteau: Welcome to Buteaupia (2020)  2020.0  Michelle Buteau   \n",
       "1                   Theo Von: No Offense (2016)  2016.0         Theo Von   \n",
       "2    Nate Bargatze’s Nashville Christmas (2024)  2024.0  Nate Bargatze’s   \n",
       "3             Your Friend, Nate Bargatze (2024)  2024.0    Nate Bargatze   \n",
       "4          Ronny Chieng: Love to Hate It (2024)  2024.0     Ronny Chieng   \n",
       "\n",
       "                  Title  runtime  rating language  \\\n",
       "0  Welcome to Buteaupia     58.0     7.0       en   \n",
       "1            No Offense     67.0     5.8       en   \n",
       "2   Nashville Christmas     61.0     6.8       en   \n",
       "3          Your Friend,     63.0     7.2       en   \n",
       "4       Love to Hate It     65.0     7.1       en   \n",
       "\n",
       "                                preprocessed_content    rating_type  f_words  \\\n",
       "0  michelle buteaus welcome buteaupia showcase ch...  Above Average       22   \n",
       "1  theo von offense wa recorded civic theatre orl...  Below Average       37   \n",
       "2  nate bargatzes christmas heartwarming holiday ...  Below Average        0   \n",
       "3  friend nate bargatze comedy standupdirector po...  Above Average        0   \n",
       "4  tuning music playing radio revving announcer l...  Above Average       40   \n",
       "\n",
       "   s_words  word_count  diversity  diversity_ratio  \n",
       "0       24        3222        833         0.258535  \n",
       "1       35        3777       1215         0.321684  \n",
       "2        0        2451        890         0.363117  \n",
       "3        0        2684        755         0.281297  \n",
       "4       14        3640       1197         0.328846  "
      ]
     },
     "execution_count": 7,
     "metadata": {},
     "output_type": "execute_result"
    }
   ],
   "source": [
    "df.head()"
   ]
  },
  {
   "cell_type": "code",
   "execution_count": null,
   "metadata": {},
   "outputs": [],
   "source": []
  }
 ],
 "metadata": {
  "kernelspec": {
   "display_name": "Python 3 (ipykernel)",
   "language": "python",
   "name": "python3"
  },
  "language_info": {
   "codemirror_mode": {
    "name": "ipython",
    "version": 3
   },
   "file_extension": ".py",
   "mimetype": "text/x-python",
   "name": "python",
   "nbconvert_exporter": "python",
   "pygments_lexer": "ipython3",
   "version": "3.11.4"
  }
 },
 "nbformat": 4,
 "nbformat_minor": 4
}
