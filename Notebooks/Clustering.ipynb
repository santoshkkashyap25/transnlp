{
 "cells": [
  {
   "cell_type": "markdown",
   "metadata": {},
   "source": [
    "# Clustering"
   ]
  },
  {
   "cell_type": "code",
   "execution_count": null,
   "metadata": {},
   "outputs": [],
   "source": [
    "import pandas as pd\n",
    "import numpy as np\n",
    "\n",
    "import matplotlib\n",
    "import matplotlib.pyplot as plt\n",
    "import matplotlib.cm as cm\n",
    "%matplotlib inline\n",
    "\n",
    "import seaborn as sns\n",
    "sns.set(color_codes=True)\n",
    "%config InlineBackend.figure_formats = ['retina']\n",
    "\n",
    "from sklearn.preprocessing import StandardScaler, MinMaxScaler\n",
    "from sklearn.cluster import KMeans\n",
    "from sklearn.metrics import silhouette_score, silhouette_samples\n",
    "from sklearn.feature_extraction.text import TfidfTransformer, TfidfVectorizer\n",
    "\n",
    "from gensim.models import Phrases\n",
    "from gensim.models.phrases import Phraser\n",
    "\n",
    "import warnings\n",
    "warnings.filterwarnings('ignore')"
   ]
  },
  {
   "cell_type": "code",
   "execution_count": null,
   "metadata": {},
   "outputs": [],
   "source": [
    "df=pd.read_csv(\"frame3.csv\")"
   ]
  },
  {
   "cell_type": "code",
   "execution_count": null,
   "metadata": {},
   "outputs": [],
   "source": [
    "df"
   ]
  },
  {
   "cell_type": "code",
   "execution_count": null,
   "metadata": {
    "scrolled": false
   },
   "outputs": [],
   "source": [
    "topics = ['Culture', 'UK', 'Crimes', 'Situational', 'Immigrants', 'Relationships', 'Politics']\n",
    "ax = sns.barplot(x=df[topics].mean().index, y=df[topics].loc[df.rating_type == 1].mean())\n",
    "ax.set_xticklabels(topics, rotation=40, ha='right')\n",
    "ax.set_title('Mean Topic Probabilities Across The Entire Dataset')\n",
    "ax.set(xlabel='Topics', ylabel='Mean Percentage per Transcript', ylim=(0, 0.5))"
   ]
  },
  {
   "cell_type": "markdown",
   "metadata": {},
   "source": [
    "# K-means"
   ]
  },
  {
   "cell_type": "code",
   "execution_count": null,
   "metadata": {},
   "outputs": [],
   "source": [
    "# Prepare X\n",
    "X = df[topics]\n",
    "X = StandardScaler().fit_transform(X)\n",
    "X.shape"
   ]
  },
  {
   "cell_type": "code",
   "execution_count": null,
   "metadata": {},
   "outputs": [],
   "source": [
    "# Cluster with differnt n's. Score with silhouette metric\n",
    "temp_dict = {}\n",
    "inertias = []\n",
    "for n_clusters in range(2,15):\n",
    "    # Initialize the clusterer with n_clusters value and a random generator seed of 10 for reproducibility.\n",
    "    clusterer = KMeans(n_clusters=n_clusters, random_state=1)\n",
    "    cluster_labels = clusterer.fit_predict(X)\n",
    "\n",
    "    # The silhouette_score gives the average value for all the samples.\n",
    "    # This gives a perspective into the density and separation of the formed clusters\n",
    "    silhouette_avg = silhouette_score(X, cluster_labels)\n",
    "    print(\"For n_clusters =\", n_clusters,\n",
    "          \"The average silhouette_score is :\", silhouette_avg)\n",
    "    temp_dict[n_clusters] = [silhouette_avg] \n",
    "    \n",
    "    inertia = clusterer.inertia_\n",
    "    print(\"\\tThe inertia is :\", inertia)\n",
    "    inertias.append(inertia)"
   ]
  },
  {
   "cell_type": "code",
   "execution_count": null,
   "metadata": {},
   "outputs": [],
   "source": [
    "sns.set(font_scale=1.2)\n",
    "sns.set_style('ticks')\n",
    "s_scores = pd.DataFrame(temp_dict).T\n",
    "ax = sns.lineplot(x=s_scores.index, y=s_scores[0], color='teal')\n",
    "ax.set_xticks(range(2,14))\n",
    "ax.set_ylabel('Silhouette score')\n",
    "ax.set_xlabel('Clusters')\n",
    "ax.figure.tight_layout()"
   ]
  },
  {
   "cell_type": "code",
   "execution_count": null,
   "metadata": {},
   "outputs": [],
   "source": [
    "# Create the line plot\n",
    "ax = sns.lineplot(x=range(2, 15), y=inertias, color='teal')\n",
    "# Set the y-axis label\n",
    "ax.set_ylabel('SSE (inertia)')\n",
    "# Set the x-axis label\n",
    "ax.set_xlabel('Clusters')\n",
    "# Adjust the layout of the plot to fit the figure area properly\n",
    "ax.figure.tight_layout()\n",
    "# Show the plot\n",
    "plt.show()"
   ]
  },
  {
   "cell_type": "code",
   "execution_count": null,
   "metadata": {},
   "outputs": [],
   "source": [
    "clusterer = KMeans(n_clusters=7, random_state=10)\n",
    "df['cluster_LDA'] = clusterer.fit_predict(X)"
   ]
  },
  {
   "cell_type": "code",
   "execution_count": null,
   "metadata": {},
   "outputs": [],
   "source": [
    "for cluster in range(7):\n",
    "    # Create a subplot with 1 row and 1 columns\n",
    "    fig, (ax1) = plt.subplots(1, 1)\n",
    "    fig.set_size_inches(4, 4)\n",
    "     \n",
    "    ax = sns.barplot(x=df[topics].mean().index, y=df[topics].loc[df.cluster_LDA == cluster].mean())\n",
    "    ax.set_xticklabels(topics, rotation=40, ha='right')   \n",
    "    ax.set_title(f'cluster: {cluster}')"
   ]
  },
  {
   "cell_type": "code",
   "execution_count": null,
   "metadata": {},
   "outputs": [],
   "source": [
    "df.cluster_LDA.value_counts()"
   ]
  },
  {
   "cell_type": "markdown",
   "metadata": {},
   "source": [
    "# TF-IDF"
   ]
  },
  {
   "cell_type": "markdown",
   "metadata": {},
   "source": [
    "### Clean text (get tri- and bi-grams, lemmatize, and take only selected POS)"
   ]
  },
  {
   "cell_type": "code",
   "execution_count": null,
   "metadata": {},
   "outputs": [],
   "source": [
    "# Build bigram and trigram Phrases objects\n",
    "bigram_phrases = Phrases(df.words, min_count=10)\n",
    "trigram_phrases = Phrases(bigram_phrases[df.words], min_count=5)\n",
    "\n",
    "# Create Phraser model objects for faster processing\n",
    "bigram_model = Phraser(bigram_phrases)\n",
    "trigram_model = Phraser(trigram_phrases)\n",
    "trigrams = [trigram_model[bigram_model[word.split()]] for word in df.words]\n",
    "\n",
    "nlp = spacy.load('en_core_web_sm', disable=['parser', 'ner'])\n",
    "allowed_postags = ['NOUN', 'ADJ', 'VERB', 'ADV']\n",
    "lemmatized_words = []\n",
    "for sent in trigrams:\n",
    "    doc = nlp(\" \".join(sent))\n",
    "    lemmatized_words.append([token.lemma_ for token in doc if token.pos_ in allowed_postags])"
   ]
  },
  {
   "cell_type": "code",
   "execution_count": null,
   "metadata": {},
   "outputs": [],
   "source": [
    "# Prepare for KMeans clustering using Tfidf matrix\n",
    "def identity_tokenizer(text):\n",
    "    return text\n",
    "\n",
    "tfidf = TfidfVectorizer(tokenizer=identity_tokenizer, \n",
    "                        lowercase=False,\n",
    "                        min_df = 10,\n",
    "                        max_df = 0.4,)   \n",
    "\n",
    "X = tfidf.fit_transform(lemmatized_words)\n",
    "X.shape"
   ]
  },
  {
   "cell_type": "code",
   "execution_count": null,
   "metadata": {},
   "outputs": [],
   "source": [
    "# Cluster with differnt n's. Score with silhouette metric\n",
    "temp_dict = {}\n",
    "inertias = []\n",
    "for n_clusters in range(2,15):\n",
    "    clusterer = KMeans(n_clusters=n_clusters, random_state=1)\n",
    "    cluster_labels = clusterer.fit_predict(X)\n",
    "    \n",
    "    silhouette_avg = silhouette_score(X, cluster_labels)\n",
    "    print(\"For n_clusters =\", n_clusters,\n",
    "          \"The average silhouette_score is :\", silhouette_avg)\n",
    "    temp_dict[n_clusters] = [silhouette_avg] \n",
    "    \n",
    "    inertia = clusterer.inertia_\n",
    "    print(\"\\tThe inertia is :\", inertia)\n",
    "    inertias.append(inertia)"
   ]
  },
  {
   "cell_type": "code",
   "execution_count": null,
   "metadata": {},
   "outputs": [],
   "source": [
    "s_scores = pd.DataFrame(temp_dict).T\n",
    "ax = sns.lineplot(x=s_scores.index, y=s_scores[0], color='teal')\n",
    "ax.set_xticks(range(2,15, 4))\n",
    "ax.set_ylabel('Silhouette score')\n",
    "ax.set_xlabel('Clusters')\n",
    "ax.figure.tight_layout()"
   ]
  },
  {
   "cell_type": "code",
   "execution_count": null,
   "metadata": {},
   "outputs": [],
   "source": [
    "ax = sns.lineplot(x=range(2,15), y=inertias, color='teal')\n",
    "ax.set_ylabel('SSE (inertia)')\n",
    "ax.set_xlabel('Clusters')\n",
    "ax.figure.tight_layout()"
   ]
  },
  {
   "cell_type": "code",
   "execution_count": null,
   "metadata": {},
   "outputs": [],
   "source": [
    "clusterer = KMeans(n_clusters=7, random_state=10)\n",
    "df['cluster_tfidf'] = clusterer.fit_predict(X)"
   ]
  },
  {
   "cell_type": "code",
   "execution_count": null,
   "metadata": {},
   "outputs": [],
   "source": [
    "for cluster in range(7):\n",
    "    # Create a subplot with 1 row and 1 columns\n",
    "    fig, (ax1) = plt.subplots(1, 1)\n",
    "    fig.set_size_inches(4, 4)\n",
    "    \n",
    "    ax = sns.barplot(x=df[topics].mean().index, y=df[topics].loc[df.cluster_tfidf == cluster].mean())\n",
    "    ax.set_xticklabels(topics, rotation=40, ha='right')   \n",
    "    ax.set_title(f'cluster: {cluster}')"
   ]
  },
  {
   "cell_type": "code",
   "execution_count": null,
   "metadata": {},
   "outputs": [],
   "source": [
    "df.cluster_tfidf.value_counts()"
   ]
  },
  {
   "cell_type": "code",
   "execution_count": null,
   "metadata": {},
   "outputs": [],
   "source": [
    "# Saving the csv file\n",
    "df.to_csv(\"frame4.csv\", index=False)"
   ]
  },
  {
   "cell_type": "code",
   "execution_count": 5,
   "metadata": {},
   "outputs": [],
   "source": [
    "import pandas as pd"
   ]
  },
  {
   "cell_type": "code",
   "execution_count": 9,
   "metadata": {},
   "outputs": [],
   "source": [
    "df=pd.read_csv(r\"D:\\PROJECTS\\transnlp\\data\\processed\\processed_content_with_clusters.csv\")"
   ]
  },
  {
   "cell_type": "code",
   "execution_count": 10,
   "metadata": {},
   "outputs": [
    {
     "name": "stdout",
     "output_type": "stream",
     "text": [
      "<class 'pandas.core.frame.DataFrame'>\n",
      "RangeIndex: 500 entries, 0 to 499\n",
      "Data columns (total 28 columns):\n",
      " #   Column                Non-Null Count  Dtype  \n",
      "---  ------                --------------  -----  \n",
      " 0   S No.                 500 non-null    int64  \n",
      " 1   Tag                   500 non-null    object \n",
      " 2   URL                   500 non-null    object \n",
      " 3   Raw Transcript        500 non-null    object \n",
      " 4   Transcript            500 non-null    object \n",
      " 5   CleanTag              500 non-null    object \n",
      " 6   Year                  465 non-null    float64\n",
      " 7   Names                 500 non-null    object \n",
      " 8   Title                 480 non-null    object \n",
      " 9   runtime               434 non-null    float64\n",
      " 10  rating                425 non-null    float64\n",
      " 11  language              500 non-null    object \n",
      " 12  preprocessed_content  500 non-null    object \n",
      " 13  rating_type           425 non-null    object \n",
      " 14  f_words               500 non-null    int64  \n",
      " 15  s_words               500 non-null    int64  \n",
      " 16  word_count            500 non-null    int64  \n",
      " 17  diversity             500 non-null    int64  \n",
      " 18  diversity_ratio       500 non-null    float64\n",
      " 19  Culture               500 non-null    float64\n",
      " 20  UK                    500 non-null    float64\n",
      " 21  Crimes                500 non-null    float64\n",
      " 22  Situational           500 non-null    float64\n",
      " 23  Immigrants            500 non-null    float64\n",
      " 24  Relationships         500 non-null    float64\n",
      " 25  Politics              500 non-null    float64\n",
      " 26  cluster_LDA           500 non-null    int64  \n",
      " 27  cluster_tfidf         500 non-null    int64  \n",
      "dtypes: float64(11), int64(7), object(10)\n",
      "memory usage: 109.5+ KB\n"
     ]
    }
   ],
   "source": [
    "df.info()"
   ]
  },
  {
   "cell_type": "code",
   "execution_count": 11,
   "metadata": {},
   "outputs": [
    {
     "data": {
      "text/html": [
       "<div>\n",
       "<style scoped>\n",
       "    .dataframe tbody tr th:only-of-type {\n",
       "        vertical-align: middle;\n",
       "    }\n",
       "\n",
       "    .dataframe tbody tr th {\n",
       "        vertical-align: top;\n",
       "    }\n",
       "\n",
       "    .dataframe thead th {\n",
       "        text-align: right;\n",
       "    }\n",
       "</style>\n",
       "<table border=\"1\" class=\"dataframe\">\n",
       "  <thead>\n",
       "    <tr style=\"text-align: right;\">\n",
       "      <th></th>\n",
       "      <th>S No.</th>\n",
       "      <th>Tag</th>\n",
       "      <th>URL</th>\n",
       "      <th>Raw Transcript</th>\n",
       "      <th>Transcript</th>\n",
       "      <th>CleanTag</th>\n",
       "      <th>Year</th>\n",
       "      <th>Names</th>\n",
       "      <th>Title</th>\n",
       "      <th>runtime</th>\n",
       "      <th>...</th>\n",
       "      <th>diversity_ratio</th>\n",
       "      <th>Culture</th>\n",
       "      <th>UK</th>\n",
       "      <th>Crimes</th>\n",
       "      <th>Situational</th>\n",
       "      <th>Immigrants</th>\n",
       "      <th>Relationships</th>\n",
       "      <th>Politics</th>\n",
       "      <th>cluster_LDA</th>\n",
       "      <th>cluster_tfidf</th>\n",
       "    </tr>\n",
       "  </thead>\n",
       "  <tbody>\n",
       "    <tr>\n",
       "      <th>0</th>\n",
       "      <td>0</td>\n",
       "      <td>Michelle Buteau: Welcome to Buteaupia (2020)  ...</td>\n",
       "      <td>https://scrapsfromtheloft.com/comedy/michelle-...</td>\n",
       "      <td>['Michelle Buteau’s Netflix special Welcome to...</td>\n",
       "      <td>michelle buteaus netflix special welcome to bu...</td>\n",
       "      <td>Michelle Buteau: Welcome to Buteaupia (2020)</td>\n",
       "      <td>2020.0</td>\n",
       "      <td>Michelle Buteau</td>\n",
       "      <td>Welcome to Buteaupia</td>\n",
       "      <td>58.0</td>\n",
       "      <td>...</td>\n",
       "      <td>0.258535</td>\n",
       "      <td>0.110807</td>\n",
       "      <td>0.132198</td>\n",
       "      <td>0.006003</td>\n",
       "      <td>0.727972</td>\n",
       "      <td>0.020906</td>\n",
       "      <td>0.000970</td>\n",
       "      <td>0.001144</td>\n",
       "      <td>3</td>\n",
       "      <td>4</td>\n",
       "    </tr>\n",
       "    <tr>\n",
       "      <th>1</th>\n",
       "      <td>1</td>\n",
       "      <td>Theo Von: No Offense (2016) | Transcript</td>\n",
       "      <td>https://scrapsfromtheloft.com/comedy/theo-von-...</td>\n",
       "      <td>['Theo Von: No Offense was recorded at the Civ...</td>\n",
       "      <td>theo von no offense was recorded at the civic ...</td>\n",
       "      <td>Theo Von: No Offense (2016)</td>\n",
       "      <td>2016.0</td>\n",
       "      <td>Theo Von</td>\n",
       "      <td>No Offense</td>\n",
       "      <td>67.0</td>\n",
       "      <td>...</td>\n",
       "      <td>0.321684</td>\n",
       "      <td>0.283310</td>\n",
       "      <td>0.000627</td>\n",
       "      <td>0.003217</td>\n",
       "      <td>0.596115</td>\n",
       "      <td>0.115468</td>\n",
       "      <td>0.000599</td>\n",
       "      <td>0.000663</td>\n",
       "      <td>5</td>\n",
       "      <td>6</td>\n",
       "    </tr>\n",
       "    <tr>\n",
       "      <th>2</th>\n",
       "      <td>2</td>\n",
       "      <td>Nate Bargatze’s Nashville Christmas (2024) | T...</td>\n",
       "      <td>https://scrapsfromtheloft.com/comedy/nate-barg...</td>\n",
       "      <td>['Nate Bargatze’s Nashville Christmas is a hea...</td>\n",
       "      <td>nate bargatzes nashville christmas is a heartw...</td>\n",
       "      <td>Nate Bargatze’s Nashville Christmas (2024)</td>\n",
       "      <td>2024.0</td>\n",
       "      <td>Nate Bargatze’s</td>\n",
       "      <td>Nashville Christmas</td>\n",
       "      <td>61.0</td>\n",
       "      <td>...</td>\n",
       "      <td>0.363117</td>\n",
       "      <td>0.185778</td>\n",
       "      <td>0.001202</td>\n",
       "      <td>0.000758</td>\n",
       "      <td>0.630959</td>\n",
       "      <td>0.179455</td>\n",
       "      <td>0.000914</td>\n",
       "      <td>0.000934</td>\n",
       "      <td>5</td>\n",
       "      <td>3</td>\n",
       "    </tr>\n",
       "    <tr>\n",
       "      <th>3</th>\n",
       "      <td>3</td>\n",
       "      <td>Your Friend, Nate Bargatze (2024) | Transcript</td>\n",
       "      <td>https://scrapsfromtheloft.com/comedy/your-frie...</td>\n",
       "      <td>['Your Friend, Nate Bargatze (2024)\\nGenre: Co...</td>\n",
       "      <td>your friend nate bargatze  comedy standupdirec...</td>\n",
       "      <td>Your Friend, Nate Bargatze (2024)</td>\n",
       "      <td>2024.0</td>\n",
       "      <td>Nate Bargatze</td>\n",
       "      <td>Your Friend,</td>\n",
       "      <td>63.0</td>\n",
       "      <td>...</td>\n",
       "      <td>0.281297</td>\n",
       "      <td>0.038446</td>\n",
       "      <td>0.001057</td>\n",
       "      <td>0.003672</td>\n",
       "      <td>0.933593</td>\n",
       "      <td>0.020873</td>\n",
       "      <td>0.001378</td>\n",
       "      <td>0.000980</td>\n",
       "      <td>5</td>\n",
       "      <td>3</td>\n",
       "    </tr>\n",
       "    <tr>\n",
       "      <th>4</th>\n",
       "      <td>4</td>\n",
       "      <td>Ronny Chieng: Love to Hate It (2024) | Transcript</td>\n",
       "      <td>https://scrapsfromtheloft.com/comedy/ronny-chi...</td>\n",
       "      <td>['[tuning]', '[gentle Hawaiian music playing o...</td>\n",
       "      <td>tuning gentle hawaiian music playing over radi...</td>\n",
       "      <td>Ronny Chieng: Love to Hate It (2024)</td>\n",
       "      <td>2024.0</td>\n",
       "      <td>Ronny Chieng</td>\n",
       "      <td>Love to Hate It</td>\n",
       "      <td>65.0</td>\n",
       "      <td>...</td>\n",
       "      <td>0.328846</td>\n",
       "      <td>0.000747</td>\n",
       "      <td>0.000550</td>\n",
       "      <td>0.001193</td>\n",
       "      <td>0.463722</td>\n",
       "      <td>0.079922</td>\n",
       "      <td>0.453276</td>\n",
       "      <td>0.000589</td>\n",
       "      <td>6</td>\n",
       "      <td>3</td>\n",
       "    </tr>\n",
       "  </tbody>\n",
       "</table>\n",
       "<p>5 rows × 28 columns</p>\n",
       "</div>"
      ],
      "text/plain": [
       "   S No.                                                Tag  \\\n",
       "0      0  Michelle Buteau: Welcome to Buteaupia (2020)  ...   \n",
       "1      1           Theo Von: No Offense (2016) | Transcript   \n",
       "2      2  Nate Bargatze’s Nashville Christmas (2024) | T...   \n",
       "3      3     Your Friend, Nate Bargatze (2024) | Transcript   \n",
       "4      4  Ronny Chieng: Love to Hate It (2024) | Transcript   \n",
       "\n",
       "                                                 URL  \\\n",
       "0  https://scrapsfromtheloft.com/comedy/michelle-...   \n",
       "1  https://scrapsfromtheloft.com/comedy/theo-von-...   \n",
       "2  https://scrapsfromtheloft.com/comedy/nate-barg...   \n",
       "3  https://scrapsfromtheloft.com/comedy/your-frie...   \n",
       "4  https://scrapsfromtheloft.com/comedy/ronny-chi...   \n",
       "\n",
       "                                      Raw Transcript  \\\n",
       "0  ['Michelle Buteau’s Netflix special Welcome to...   \n",
       "1  ['Theo Von: No Offense was recorded at the Civ...   \n",
       "2  ['Nate Bargatze’s Nashville Christmas is a hea...   \n",
       "3  ['Your Friend, Nate Bargatze (2024)\\nGenre: Co...   \n",
       "4  ['[tuning]', '[gentle Hawaiian music playing o...   \n",
       "\n",
       "                                          Transcript  \\\n",
       "0  michelle buteaus netflix special welcome to bu...   \n",
       "1  theo von no offense was recorded at the civic ...   \n",
       "2  nate bargatzes nashville christmas is a heartw...   \n",
       "3  your friend nate bargatze  comedy standupdirec...   \n",
       "4  tuning gentle hawaiian music playing over radi...   \n",
       "\n",
       "                                       CleanTag    Year            Names  \\\n",
       "0  Michelle Buteau: Welcome to Buteaupia (2020)  2020.0  Michelle Buteau   \n",
       "1                   Theo Von: No Offense (2016)  2016.0         Theo Von   \n",
       "2    Nate Bargatze’s Nashville Christmas (2024)  2024.0  Nate Bargatze’s   \n",
       "3             Your Friend, Nate Bargatze (2024)  2024.0    Nate Bargatze   \n",
       "4          Ronny Chieng: Love to Hate It (2024)  2024.0     Ronny Chieng   \n",
       "\n",
       "                  Title  runtime  ...  diversity_ratio   Culture        UK  \\\n",
       "0  Welcome to Buteaupia     58.0  ...         0.258535  0.110807  0.132198   \n",
       "1            No Offense     67.0  ...         0.321684  0.283310  0.000627   \n",
       "2   Nashville Christmas     61.0  ...         0.363117  0.185778  0.001202   \n",
       "3          Your Friend,     63.0  ...         0.281297  0.038446  0.001057   \n",
       "4       Love to Hate It     65.0  ...         0.328846  0.000747  0.000550   \n",
       "\n",
       "     Crimes  Situational  Immigrants  Relationships  Politics  cluster_LDA  \\\n",
       "0  0.006003     0.727972    0.020906       0.000970  0.001144            3   \n",
       "1  0.003217     0.596115    0.115468       0.000599  0.000663            5   \n",
       "2  0.000758     0.630959    0.179455       0.000914  0.000934            5   \n",
       "3  0.003672     0.933593    0.020873       0.001378  0.000980            5   \n",
       "4  0.001193     0.463722    0.079922       0.453276  0.000589            6   \n",
       "\n",
       "   cluster_tfidf  \n",
       "0              4  \n",
       "1              6  \n",
       "2              3  \n",
       "3              3  \n",
       "4              3  \n",
       "\n",
       "[5 rows x 28 columns]"
      ]
     },
     "execution_count": 11,
     "metadata": {},
     "output_type": "execute_result"
    }
   ],
   "source": [
    "df.head()"
   ]
  },
  {
   "cell_type": "code",
   "execution_count": null,
   "metadata": {},
   "outputs": [],
   "source": []
  }
 ],
 "metadata": {
  "kernelspec": {
   "display_name": "Python 3 (ipykernel)",
   "language": "python",
   "name": "python3"
  },
  "language_info": {
   "codemirror_mode": {
    "name": "ipython",
    "version": 3
   },
   "file_extension": ".py",
   "mimetype": "text/x-python",
   "name": "python",
   "nbconvert_exporter": "python",
   "pygments_lexer": "ipython3",
   "version": "3.11.4"
  }
 },
 "nbformat": 4,
 "nbformat_minor": 4
}
