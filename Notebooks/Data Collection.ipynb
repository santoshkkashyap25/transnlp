{
 "cells": [
  {
   "cell_type": "markdown",
   "metadata": {},
   "source": [
    "## Data Collection"
   ]
  },
  {
   "cell_type": "code",
   "execution_count": 1,
   "metadata": {},
   "outputs": [],
   "source": [
    "# importing required Libraries\n",
    "import pandas as pd\n",
    "import numpy as np\n",
    "\n",
    "import requests\n",
    "from bs4 import BeautifulSoup\n",
    "\n",
    "import pickle\n",
    "import joblib\n",
    "import os\n",
    "\n",
    "import re\n",
    "import string\n",
    "from langdetect import detect\n",
    "\n",
    "import imdb\n",
    "imdb = imdb.IMDb()\n",
    "\n",
    "import warnings\n",
    "warnings.filterwarnings('ignore')"
   ]
  },
  {
   "cell_type": "code",
   "execution_count": 2,
   "metadata": {},
   "outputs": [],
   "source": [
    "def scrape_links(x):\n",
    "    html_data= requests.get(x).text\n",
    "    link_data = BeautifulSoup(html_data,\"lxml\")\n",
    "    result = [x.get('href') for x in link_data.find(class_=\"elementor-section elementor-top-section elementor-element elementor-element-b70b8d7 elementor-section-boxed elementor-section-height-default elementor-section-height-default\").find_all(\"a\")] \n",
    "    return result\n",
    "\n",
    "def scrape_tags(x):\n",
    "    html_data= requests.get(x).text\n",
    "    link_data = BeautifulSoup(html_data,\"lxml\")\n",
    "    result = [x.text for x in link_data.find(class_=\"elementor-section elementor-top-section elementor-element elementor-element-b70b8d7 elementor-section-boxed elementor-section-height-default elementor-section-height-default\").find_all(\"h3\")] \n",
    "    return result\n",
    "\n",
    "def scrape_transcript(x):\n",
    "    html_data= requests.get(x).text\n",
    "    link_data = BeautifulSoup(html_data,\"lxml\")\n",
    "    result = [x.text for x in link_data.find(class_=\"elementor-element elementor-element-74af9a5b elementor-widget elementor-widget-theme-post-content\").find_all(\"p\")] \n",
    "    return result"
   ]
  },
  {
   "cell_type": "code",
   "execution_count": 4,
   "metadata": {},
   "outputs": [],
   "source": [
    "links = scrape_links(\"https://scrapsfromtheloft.com/stand-up-comedy-scripts/\")\n",
    "tags = scrape_tags(\"https://scrapsfromtheloft.com/stand-up-comedy-scripts/\")\n",
    "links=links[:4]\n",
    "transcript = [scrape_transcript(x) for x in links]"
   ]
  },
  {
   "cell_type": "code",
   "execution_count": 4,
   "metadata": {},
   "outputs": [],
   "source": [
    "frame_tag = pd.DataFrame(tags, columns=[\"Tag\"])\n",
    "frame_link = pd.DataFrame(links, columns=[\"URL\"])\n",
    "data = {\n",
    "    \"Tag\": tags,\n",
    "    \"URL\": links,\n",
    "    \"Raw Transcript\": transcript\n",
    "}\n",
    "frame = pd.DataFrame(data)\n",
    "frame.insert(loc=0, column='S No.', value=np.arange(len(frame)))"
   ]
  },
  {
   "cell_type": "code",
   "execution_count": 5,
   "metadata": {},
   "outputs": [],
   "source": [
    "# Removing unwanted characters from tags and extract name , title and year\n",
    "frame['Tag'] = frame['Tag'].map(lambda x: x.lstrip('\\n\\n\\t\\t\\t\\t').rstrip('-\\n\\n\\t\\t\\t\\t'))\n",
    "frame['Names'] = frame['Tag'].str.extract(r'([\\w\\s.]+)')\n",
    "frame['Title'] = frame['Tag'].str.extract(r'([\\w\\s\\d.:,’*?!-%]+)')\n",
    "frame['Year'] = frame['Tag'].str.extract(r'(\\d{4})')"
   ]
  },
  {
   "cell_type": "code",
   "execution_count": 6,
   "metadata": {},
   "outputs": [],
   "source": [
    "if not os.path.exists(\"transcripts\"):\n",
    "    os.mkdir(\"transcripts\")\n",
    "\n",
    "# Dumping individual transcripts into text files\n",
    "Sr = frame['S No.'].tolist()\n",
    "for i, c in enumerate(Sr):\n",
    "    with open(\"transcripts/\" + str(c) + \".txt\", \"wb\") as file:\n",
    "        pickle.dump(frame['Raw Transcript'][i], file)\n",
    "\n",
    "# Load pickled transcript files\n",
    "data = {}\n",
    "for i, c in enumerate(Sr):\n",
    "    with open(\"transcripts/\" + str(c) + \".txt\", \"rb\") as file:\n",
    "        data[c] = pickle.load(file)\n",
    "\n",
    "# Function to combine text from a list of text\n",
    "def combine_text(list_of_text):\n",
    "    '''Takes a list of text and combines them into one large chunk of text.'''\n",
    "    combined_text = ' '.join(list_of_text)\n",
    "    return combined_text\n",
    "\n",
    "# Combine the text for each transcript into one string\n",
    "data_combined = {key: [combine_text(value)] for (key, value) in data.items()}\n",
    "\n",
    "# Create a DataFrame for the combined transcripts\n",
    "frame_trans = pd.DataFrame.from_dict(data_combined).transpose()\n",
    "frame_trans.columns = ['Transcript']"
   ]
  },
  {
   "cell_type": "markdown",
   "metadata": {},
   "source": [
    "## Cleaning The Data"
   ]
  },
  {
   "cell_type": "code",
   "execution_count": 7,
   "metadata": {},
   "outputs": [],
   "source": [
    "# Define the clean function to preprocess text\n",
    "def clean(text):\n",
    "    text = re.sub(r'\\[.*?\\]', '', text)            # Remove text in square brackets\n",
    "    text = text.lower()                           # Convert text to lowercase\n",
    "    text = re.sub('[%s]' % re.escape(string.punctuation), '', text)    # Remove punctuation\n",
    "    text = re.sub('\\n', '', text)                  # Remove newlines\n",
    "    text = re.sub('[‘’“”…]', '', text)             # Remove specific special characters\n",
    "    text = re.sub('[♪)(“”…]', '', text)            # Remove additional special characters\n",
    "    text = re.sub('\\w*\\d\\w*', '', text)            # Remove words containing numbers\n",
    "    return text\n",
    "\n",
    "# Apply the clean function to the \"Transcript\" column and create a new DataFrame for preprocessed transcripts\n",
    "frame_trans = pd.DataFrame(frame_trans.Transcript.apply(clean))\n",
    "\n",
    "# Concatenate the preprocessed transcripts with the original DataFrame 'frame' along the columns\n",
    "frame = pd.concat([frame, frame_trans], axis=1)\n",
    "\n",
    "# Drop any rows with missing values (NaN) from the DataFrame\n",
    "frame = frame.dropna()"
   ]
  },
  {
   "cell_type": "markdown",
   "metadata": {},
   "source": [
    "### Get runtime and rating info with an IMDb api"
   ]
  },
  {
   "cell_type": "code",
   "execution_count": 8,
   "metadata": {},
   "outputs": [
    {
     "name": "stdout",
     "output_type": "stream",
     "text": [
      "Total not found: 32\n"
     ]
    }
   ],
   "source": [
    "def get_imdb_info(titles):\n",
    "    runtime = []\n",
    "    rating = []\n",
    "    count = -1\n",
    "    errors = 0\n",
    "    \n",
    "    for i in titles:\n",
    "        count += 1\n",
    "        # Search the first 30 characters on IMDb\n",
    "        result = imdb.search_movie(i[:30])\n",
    "        try:\n",
    "            mov = imdb.get_movie(result[0].movieID, info=['main'])\n",
    "            runtime.append(int(mov.get('runtimes')[0]))\n",
    "            rating.append(mov.get('rating'))\n",
    "        except:\n",
    "            runtime.append('')\n",
    "            rating.append('')\n",
    "            errors += 1\n",
    "            # print(f'Error on index {count}, title: {i}')\n",
    "    print(f'Total not found: {errors}')\n",
    "    return pd.Series(runtime), pd.Series(rating)\n",
    "    \n",
    "runtime, rating = get_imdb_info(frame.Title)\n",
    "\n",
    "frame['runtime'] = runtime\n",
    "frame['rating'] = rating\n",
    "\n",
    "# Replace empty values with NaN\n",
    "frame = frame.replace(r'^\\s*$', np.NaN, regex=True)"
   ]
  },
  {
   "cell_type": "code",
   "execution_count": 14,
   "metadata": {},
   "outputs": [
    {
     "name": "stdout",
     "output_type": "stream",
     "text": [
      "language\n",
      "en    398\n",
      "it      6\n",
      "es      1\n",
      "Name: count, dtype: int64\n"
     ]
    }
   ],
   "source": [
    "# Dectect language based on the first 500 characters and create a language column in the df\n",
    "frame['language'] = frame.Transcript.apply(lambda x: detect(x[:500]))\n",
    "print(frame.language.value_counts())"
   ]
  },
  {
   "cell_type": "code",
   "execution_count": 11,
   "metadata": {},
   "outputs": [],
   "source": [
    "# Get indices for which transcripts are empty\n",
    "drop_indices = frame[frame.Transcript == ''].index\n",
    "frame.drop(drop_indices , inplace=True)\n",
    "frame = frame.reset_index(drop=True)"
   ]
  },
  {
   "cell_type": "code",
   "execution_count": 16,
   "metadata": {},
   "outputs": [],
   "source": [
    "# Saving the csv file\n",
    "frame.to_csv(\"frame.csv\", index=False)"
   ]
  },
  {
   "cell_type": "code",
   "execution_count": 98,
   "metadata": {},
   "outputs": [],
   "source": [
    "df=pd.read_csv(r\"D:\\PROJECTS\\transnlp\\data\\raw\\scraped_and_cleaned_content_data.csv\")"
   ]
  },
  {
   "cell_type": "code",
   "execution_count": 99,
   "metadata": {},
   "outputs": [
    {
     "name": "stdout",
     "output_type": "stream",
     "text": [
      "<class 'pandas.core.frame.DataFrame'>\n",
      "RangeIndex: 500 entries, 0 to 499\n",
      "Data columns (total 12 columns):\n",
      " #   Column          Non-Null Count  Dtype  \n",
      "---  ------          --------------  -----  \n",
      " 0   S No.           500 non-null    int64  \n",
      " 1   Tag             500 non-null    object \n",
      " 2   URL             500 non-null    object \n",
      " 3   Raw Transcript  500 non-null    object \n",
      " 4   Transcript      500 non-null    object \n",
      " 5   CleanTag        500 non-null    object \n",
      " 6   Year            465 non-null    float64\n",
      " 7   Names           500 non-null    object \n",
      " 8   Title           480 non-null    object \n",
      " 9   runtime         434 non-null    float64\n",
      " 10  rating          425 non-null    float64\n",
      " 11  language        500 non-null    object \n",
      "dtypes: float64(3), int64(1), object(8)\n",
      "memory usage: 47.0+ KB\n"
     ]
    }
   ],
   "source": [
    "df.info()"
   ]
  },
  {
   "cell_type": "code",
   "execution_count": 100,
   "metadata": {
    "scrolled": false
   },
   "outputs": [
    {
     "data": {
      "text/html": [
       "<div>\n",
       "<style scoped>\n",
       "    .dataframe tbody tr th:only-of-type {\n",
       "        vertical-align: middle;\n",
       "    }\n",
       "\n",
       "    .dataframe tbody tr th {\n",
       "        vertical-align: top;\n",
       "    }\n",
       "\n",
       "    .dataframe thead th {\n",
       "        text-align: right;\n",
       "    }\n",
       "</style>\n",
       "<table border=\"1\" class=\"dataframe\">\n",
       "  <thead>\n",
       "    <tr style=\"text-align: right;\">\n",
       "      <th></th>\n",
       "      <th>S No.</th>\n",
       "      <th>Tag</th>\n",
       "      <th>URL</th>\n",
       "      <th>Raw Transcript</th>\n",
       "      <th>Transcript</th>\n",
       "      <th>CleanTag</th>\n",
       "      <th>Year</th>\n",
       "      <th>Names</th>\n",
       "      <th>Title</th>\n",
       "      <th>runtime</th>\n",
       "      <th>rating</th>\n",
       "      <th>language</th>\n",
       "    </tr>\n",
       "  </thead>\n",
       "  <tbody>\n",
       "    <tr>\n",
       "      <th>0</th>\n",
       "      <td>0</td>\n",
       "      <td>Michelle Buteau: Welcome to Buteaupia (2020)  ...</td>\n",
       "      <td>https://scrapsfromtheloft.com/comedy/michelle-...</td>\n",
       "      <td>['Michelle Buteau’s Netflix special Welcome to...</td>\n",
       "      <td>michelle buteaus netflix special welcome to bu...</td>\n",
       "      <td>Michelle Buteau: Welcome to Buteaupia (2020)</td>\n",
       "      <td>2020.0</td>\n",
       "      <td>Michelle Buteau</td>\n",
       "      <td>Welcome to Buteaupia</td>\n",
       "      <td>58.0</td>\n",
       "      <td>7.0</td>\n",
       "      <td>en</td>\n",
       "    </tr>\n",
       "    <tr>\n",
       "      <th>1</th>\n",
       "      <td>1</td>\n",
       "      <td>Theo Von: No Offense (2016) | Transcript</td>\n",
       "      <td>https://scrapsfromtheloft.com/comedy/theo-von-...</td>\n",
       "      <td>['Theo Von: No Offense was recorded at the Civ...</td>\n",
       "      <td>theo von no offense was recorded at the civic ...</td>\n",
       "      <td>Theo Von: No Offense (2016)</td>\n",
       "      <td>2016.0</td>\n",
       "      <td>Theo Von</td>\n",
       "      <td>No Offense</td>\n",
       "      <td>67.0</td>\n",
       "      <td>5.8</td>\n",
       "      <td>en</td>\n",
       "    </tr>\n",
       "    <tr>\n",
       "      <th>2</th>\n",
       "      <td>2</td>\n",
       "      <td>Nate Bargatze’s Nashville Christmas (2024) | T...</td>\n",
       "      <td>https://scrapsfromtheloft.com/comedy/nate-barg...</td>\n",
       "      <td>['Nate Bargatze’s Nashville Christmas is a hea...</td>\n",
       "      <td>nate bargatzes nashville christmas is a heartw...</td>\n",
       "      <td>Nate Bargatze’s Nashville Christmas (2024)</td>\n",
       "      <td>2024.0</td>\n",
       "      <td>Nate Bargatze’s</td>\n",
       "      <td>Nashville Christmas</td>\n",
       "      <td>61.0</td>\n",
       "      <td>6.8</td>\n",
       "      <td>en</td>\n",
       "    </tr>\n",
       "    <tr>\n",
       "      <th>3</th>\n",
       "      <td>3</td>\n",
       "      <td>Your Friend, Nate Bargatze (2024) | Transcript</td>\n",
       "      <td>https://scrapsfromtheloft.com/comedy/your-frie...</td>\n",
       "      <td>['Your Friend, Nate Bargatze (2024)\\nGenre: Co...</td>\n",
       "      <td>your friend nate bargatze  comedy standupdirec...</td>\n",
       "      <td>Your Friend, Nate Bargatze (2024)</td>\n",
       "      <td>2024.0</td>\n",
       "      <td>Nate Bargatze</td>\n",
       "      <td>Your Friend,</td>\n",
       "      <td>63.0</td>\n",
       "      <td>7.2</td>\n",
       "      <td>en</td>\n",
       "    </tr>\n",
       "    <tr>\n",
       "      <th>4</th>\n",
       "      <td>4</td>\n",
       "      <td>Ronny Chieng: Love to Hate It (2024) | Transcript</td>\n",
       "      <td>https://scrapsfromtheloft.com/comedy/ronny-chi...</td>\n",
       "      <td>['[tuning]', '[gentle Hawaiian music playing o...</td>\n",
       "      <td>tuning gentle hawaiian music playing over radi...</td>\n",
       "      <td>Ronny Chieng: Love to Hate It (2024)</td>\n",
       "      <td>2024.0</td>\n",
       "      <td>Ronny Chieng</td>\n",
       "      <td>Love to Hate It</td>\n",
       "      <td>65.0</td>\n",
       "      <td>7.1</td>\n",
       "      <td>en</td>\n",
       "    </tr>\n",
       "  </tbody>\n",
       "</table>\n",
       "</div>"
      ],
      "text/plain": [
       "   S No.                                                Tag  \\\n",
       "0      0  Michelle Buteau: Welcome to Buteaupia (2020)  ...   \n",
       "1      1           Theo Von: No Offense (2016) | Transcript   \n",
       "2      2  Nate Bargatze’s Nashville Christmas (2024) | T...   \n",
       "3      3     Your Friend, Nate Bargatze (2024) | Transcript   \n",
       "4      4  Ronny Chieng: Love to Hate It (2024) | Transcript   \n",
       "\n",
       "                                                 URL  \\\n",
       "0  https://scrapsfromtheloft.com/comedy/michelle-...   \n",
       "1  https://scrapsfromtheloft.com/comedy/theo-von-...   \n",
       "2  https://scrapsfromtheloft.com/comedy/nate-barg...   \n",
       "3  https://scrapsfromtheloft.com/comedy/your-frie...   \n",
       "4  https://scrapsfromtheloft.com/comedy/ronny-chi...   \n",
       "\n",
       "                                      Raw Transcript  \\\n",
       "0  ['Michelle Buteau’s Netflix special Welcome to...   \n",
       "1  ['Theo Von: No Offense was recorded at the Civ...   \n",
       "2  ['Nate Bargatze’s Nashville Christmas is a hea...   \n",
       "3  ['Your Friend, Nate Bargatze (2024)\\nGenre: Co...   \n",
       "4  ['[tuning]', '[gentle Hawaiian music playing o...   \n",
       "\n",
       "                                          Transcript  \\\n",
       "0  michelle buteaus netflix special welcome to bu...   \n",
       "1  theo von no offense was recorded at the civic ...   \n",
       "2  nate bargatzes nashville christmas is a heartw...   \n",
       "3  your friend nate bargatze  comedy standupdirec...   \n",
       "4  tuning gentle hawaiian music playing over radi...   \n",
       "\n",
       "                                       CleanTag    Year            Names  \\\n",
       "0  Michelle Buteau: Welcome to Buteaupia (2020)  2020.0  Michelle Buteau   \n",
       "1                   Theo Von: No Offense (2016)  2016.0         Theo Von   \n",
       "2    Nate Bargatze’s Nashville Christmas (2024)  2024.0  Nate Bargatze’s   \n",
       "3             Your Friend, Nate Bargatze (2024)  2024.0    Nate Bargatze   \n",
       "4          Ronny Chieng: Love to Hate It (2024)  2024.0     Ronny Chieng   \n",
       "\n",
       "                  Title  runtime  rating language  \n",
       "0  Welcome to Buteaupia     58.0     7.0       en  \n",
       "1            No Offense     67.0     5.8       en  \n",
       "2   Nashville Christmas     61.0     6.8       en  \n",
       "3          Your Friend,     63.0     7.2       en  \n",
       "4       Love to Hate It     65.0     7.1       en  "
      ]
     },
     "execution_count": 100,
     "metadata": {},
     "output_type": "execute_result"
    }
   ],
   "source": [
    "df.head()"
   ]
  },
  {
   "cell_type": "code",
   "execution_count": 68,
   "metadata": {},
   "outputs": [
    {
     "name": "stdout",
     "output_type": "stream",
     "text": [
      "\n",
      "--- Scraped Details from IMDb ---\n",
      "  Title: Fortune Feimster: Crushing It(2024)\n",
      "  Runtime: 58\n",
      "  Rating: 6.9\n"
     ]
    }
   ],
   "source": [
    "import requests\n",
    "from bs4 import BeautifulSoup\n",
    "import re\n",
    "\n",
    "def scrape_imdb_details(url):\n",
    "    headers = {\n",
    "        'User-Agent': 'Mozilla/5.0 (Windows NT 10.0; Win64; x64) AppleWebKit/537.36 (KHTML, like Gecko) Chrome/120.0.0.0 Safari/537.36'\n",
    "    }\n",
    "\n",
    "    details = {\"title\": \"Not found\", \"runtime\": \"Not found\", \"rating\": \"Not found\"}\n",
    "\n",
    "    try:\n",
    "        response = requests.get(url, headers=headers, timeout=10)\n",
    "        response.raise_for_status()\n",
    "        soup = BeautifulSoup(response.text, 'html.parser')\n",
    "\n",
    "        # --- Title ---\n",
    "        title_element = soup.find('h1', {'data-testid': 'hero__pageTitle'})\n",
    "        if title_element:\n",
    "            details['title'] = title_element.get_text(strip=True)\n",
    "\n",
    "        # --- Runtime ---\n",
    "        for li in soup.find_all('li', class_='ipc-inline-list__item'):\n",
    "            text = li.get_text(strip=True)\n",
    "            if re.match(r'^\\d+h\\s*\\d*m?$|^\\d+m$', text):\n",
    "                hours = re.search(r'(\\d+)h', text)\n",
    "                minutes = re.search(r'(\\d+)m', text)\n",
    "                total_minutes = 0\n",
    "                if hours:\n",
    "                    total_minutes += int(hours.group(1)) * 60\n",
    "                if minutes:\n",
    "                    total_minutes += int(minutes.group(1))\n",
    "                details['runtime'] = total_minutes  # integer value\n",
    "                break\n",
    "        # --- Rating ---\n",
    "        rating_element = soup.find('span', class_='ipc-rating-star--rating') or \\\n",
    "                         soup.find('span', {'data-testid': 'hero-rating-bar__aggregate-rating__score'})\n",
    "        if rating_element:\n",
    "            details['rating'] = rating_element.get_text(strip=True)\n",
    "\n",
    "    except Exception as e:\n",
    "        print(f\"Scraping error: {e}\")\n",
    "\n",
    "    return details\n",
    "\n",
    "if __name__ == \"__main__\":\n",
    "    url = \"https://www.imdb.com/title/tt34253921/reference\"\n",
    "    details = scrape_imdb_details(url)\n",
    "\n",
    "    print(\"\\n--- Scraped Details from IMDb ---\")\n",
    "    for key, value in details.items():\n",
    "        print(f\"  {key.title()}: {value}\")\n"
   ]
  },
  {
   "cell_type": "code",
   "execution_count": null,
   "metadata": {},
   "outputs": [],
   "source": []
  }
 ],
 "metadata": {
  "kernelspec": {
   "display_name": "Python 3 (ipykernel)",
   "language": "python",
   "name": "python3"
  },
  "language_info": {
   "codemirror_mode": {
    "name": "ipython",
    "version": 3
   },
   "file_extension": ".py",
   "mimetype": "text/x-python",
   "name": "python",
   "nbconvert_exporter": "python",
   "pygments_lexer": "ipython3",
   "version": "3.11.4"
  }
 },
 "nbformat": 4,
 "nbformat_minor": 4
}
