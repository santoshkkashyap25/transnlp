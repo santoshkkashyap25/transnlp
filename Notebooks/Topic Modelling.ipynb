{
 "cells": [
  {
   "cell_type": "code",
   "execution_count": null,
   "metadata": {},
   "outputs": [],
   "source": [
    "import pandas as pd\n",
    "import numpy as np\n",
    "\n",
    "import nltk\n",
    "import spacy\n",
    "\n",
    "from gensim.models import Phrases\n",
    "from gensim.models.phrases import Phraser \n",
    "from gensim.corpora import Dictionary\n",
    "from gensim.models import LdaMulticore\n",
    "from gensim.models import CoherenceModel\n",
    "\n",
    "import pyLDAvis.gensim_models\n",
    "import pyLDAvis\n",
    "\n",
    "import warnings\n",
    "warnings.filterwarnings('ignore')"
   ]
  },
  {
   "cell_type": "code",
   "execution_count": null,
   "metadata": {},
   "outputs": [],
   "source": [
    "df=pd.read_csv(\"frame2.csv\")"
   ]
  },
  {
   "cell_type": "code",
   "execution_count": null,
   "metadata": {},
   "outputs": [],
   "source": [
    "df['words'] = df['words'].str.replace(\"'\", \"\")"
   ]
  },
  {
   "cell_type": "code",
   "execution_count": null,
   "metadata": {},
   "outputs": [],
   "source": [
    "# Only take English transcripts\n",
    "df = df[df.language == 'en']\n",
    "df.language.value_counts()"
   ]
  },
  {
   "cell_type": "markdown",
   "metadata": {},
   "source": [
    "### Clean text (get tri- and bi-grams, lemmatize, and take only selected POS)"
   ]
  },
  {
   "cell_type": "code",
   "execution_count": null,
   "metadata": {},
   "outputs": [],
   "source": [
    "# Build bigram and trigram Phrases objects\n",
    "bigram_phrases = Phrases(df.words, min_count=10)\n",
    "trigram_phrases = Phrases(bigram_phrases[df.words], min_count=5)\n",
    "\n",
    "# Create Phraser model objects for faster processing\n",
    "bigram_model = Phraser(bigram_phrases)\n",
    "trigram_model = Phraser(trigram_phrases)\n",
    "trigrams = [trigram_model[bigram_model[word.split()]] for word in df.words]\n",
    "\n",
    "nlp = spacy.load('en_core_web_sm', disable=['parser', 'ner'])\n",
    "allowed_postags = ['NOUN', 'ADJ', 'VERB', 'ADV']\n",
    "lemmatized_words = []\n",
    "for sent in trigrams:\n",
    "    doc = nlp(\" \".join(sent))\n",
    "    lemmatized_words.append([token.lemma_ for token in doc if token.pos_ in allowed_postags])"
   ]
  },
  {
   "cell_type": "code",
   "execution_count": null,
   "metadata": {},
   "outputs": [],
   "source": [
    "# Print the first 50 lemmatized words of the first row\n",
    "print(lemmatized_words[0][:50])"
   ]
  },
  {
   "cell_type": "code",
   "execution_count": null,
   "metadata": {},
   "outputs": [],
   "source": [
    "id2word = Dictionary(lemmatized_words)\n",
    "id2word.filter_extremes(no_below=10, no_above=0.4)\n",
    "id2word.compactify()\n",
    "corpus = [id2word.doc2bow(word) for word in lemmatized_words]"
   ]
  },
  {
   "cell_type": "markdown",
   "metadata": {},
   "source": [
    "### Create LDA model and print out topics"
   ]
  },
  {
   "cell_type": "code",
   "execution_count": null,
   "metadata": {},
   "outputs": [],
   "source": [
    "num_topics = 7\n",
    "lda_model = LdaMulticore(corpus=corpus, \n",
    "                             id2word=id2word, \n",
    "                             num_topics=num_topics, \n",
    "                             random_state=1,\n",
    "                             chunksize=30,\n",
    "                             passes=40,\n",
    "                             alpha=0.5,\n",
    "                             eta=0.91,\n",
    "                             eval_every=1,\n",
    "                             per_word_topics=True,\n",
    "                             workers=2)"
   ]
  },
  {
   "cell_type": "code",
   "execution_count": null,
   "metadata": {},
   "outputs": [],
   "source": [
    "lda_model.print_topics(7,num_words=10)"
   ]
  },
  {
   "cell_type": "markdown",
   "metadata": {},
   "source": [
    "By looking at some of the key words we try to derive a topic:\n",
    "- Topic 0 : \"Culture\"\n",
    "- Topic 1 : \"UK\"\n",
    "- Topic 2 : \"Crimes\"\n",
    "- Topic 3 : \"Situational\"\n",
    "- Topic 4 : \"Immigrants\"\n",
    "- Topic 5 : \"Relationships\"\n",
    "- Topic 6 : \"Politics\""
   ]
  },
  {
   "cell_type": "markdown",
   "metadata": {},
   "source": [
    "### Coherence Score"
   ]
  },
  {
   "cell_type": "code",
   "execution_count": null,
   "metadata": {},
   "outputs": [],
   "source": [
    "coherence_model_lda = CoherenceModel(model=lda_model, \n",
    "                                     texts=lemmatized_words, \n",
    "                                     dictionary=id2word, \n",
    "                                     coherence='c_v')\n",
    "coherence_model_lda.get_coherence()"
   ]
  },
  {
   "cell_type": "code",
   "execution_count": null,
   "metadata": {},
   "outputs": [],
   "source": [
    "# Get a list of vectors of topic probabilities\n",
    "topic_vecs = []\n",
    "for i in range(len(df.words)):\n",
    "    top_topics = lda_model.get_document_topics(corpus[i], minimum_probability=0.0)\n",
    "    topic_vec = [top_topics[i][1] for i in range(num_topics)]\n",
    "    topic_vecs.append(topic_vec)"
   ]
  },
  {
   "cell_type": "code",
   "execution_count": null,
   "metadata": {},
   "outputs": [],
   "source": [
    "# Add topic probabilities into main df. Create a new column for each topic.\n",
    "topic_columns = ['Culture', 'UK', 'Crimes', 'Situational', 'Immigrants', 'Relationships', 'Politics']\n",
    "LDA_probs = pd.DataFrame(data=topic_vecs, columns=topic_columns, index=df.index)\n",
    "df = pd.concat([df, LDA_probs], axis=1)"
   ]
  },
  {
   "cell_type": "code",
   "execution_count": null,
   "metadata": {},
   "outputs": [],
   "source": [
    "# Saving the csv file\n",
    "df.to_csv(\"frame3.csv\", index=False)"
   ]
  },
  {
   "cell_type": "code",
   "execution_count": 5,
   "metadata": {},
   "outputs": [],
   "source": [
    "import pandas as pd"
   ]
  },
  {
   "cell_type": "code",
   "execution_count": 8,
   "metadata": {},
   "outputs": [],
   "source": [
    "df = pd.read_csv(r\"D:\\PROJECTS\\transnlp\\data\\processed\\processed_content_with_topics.csv\")"
   ]
  },
  {
   "cell_type": "code",
   "execution_count": 9,
   "metadata": {},
   "outputs": [
    {
     "data": {
      "text/html": [
       "<div>\n",
       "<style scoped>\n",
       "    .dataframe tbody tr th:only-of-type {\n",
       "        vertical-align: middle;\n",
       "    }\n",
       "\n",
       "    .dataframe tbody tr th {\n",
       "        vertical-align: top;\n",
       "    }\n",
       "\n",
       "    .dataframe thead th {\n",
       "        text-align: right;\n",
       "    }\n",
       "</style>\n",
       "<table border=\"1\" class=\"dataframe\">\n",
       "  <thead>\n",
       "    <tr style=\"text-align: right;\">\n",
       "      <th></th>\n",
       "      <th>S No.</th>\n",
       "      <th>Tag</th>\n",
       "      <th>URL</th>\n",
       "      <th>Raw Transcript</th>\n",
       "      <th>Transcript</th>\n",
       "      <th>CleanTag</th>\n",
       "      <th>Year</th>\n",
       "      <th>Names</th>\n",
       "      <th>Title</th>\n",
       "      <th>runtime</th>\n",
       "      <th>...</th>\n",
       "      <th>word_count</th>\n",
       "      <th>diversity</th>\n",
       "      <th>diversity_ratio</th>\n",
       "      <th>Culture</th>\n",
       "      <th>UK</th>\n",
       "      <th>Crimes</th>\n",
       "      <th>Situational</th>\n",
       "      <th>Immigrants</th>\n",
       "      <th>Relationships</th>\n",
       "      <th>Politics</th>\n",
       "    </tr>\n",
       "  </thead>\n",
       "  <tbody>\n",
       "    <tr>\n",
       "      <th>0</th>\n",
       "      <td>0</td>\n",
       "      <td>Michelle Buteau: Welcome to Buteaupia (2020)  ...</td>\n",
       "      <td>https://scrapsfromtheloft.com/comedy/michelle-...</td>\n",
       "      <td>['Michelle Buteau’s Netflix special Welcome to...</td>\n",
       "      <td>michelle buteaus netflix special welcome to bu...</td>\n",
       "      <td>Michelle Buteau: Welcome to Buteaupia (2020)</td>\n",
       "      <td>2020.0</td>\n",
       "      <td>Michelle Buteau</td>\n",
       "      <td>Welcome to Buteaupia</td>\n",
       "      <td>58.0</td>\n",
       "      <td>...</td>\n",
       "      <td>3222</td>\n",
       "      <td>833</td>\n",
       "      <td>0.258535</td>\n",
       "      <td>0.110807</td>\n",
       "      <td>0.132198</td>\n",
       "      <td>0.006003</td>\n",
       "      <td>0.727972</td>\n",
       "      <td>0.020906</td>\n",
       "      <td>0.000970</td>\n",
       "      <td>0.001144</td>\n",
       "    </tr>\n",
       "    <tr>\n",
       "      <th>1</th>\n",
       "      <td>1</td>\n",
       "      <td>Theo Von: No Offense (2016) | Transcript</td>\n",
       "      <td>https://scrapsfromtheloft.com/comedy/theo-von-...</td>\n",
       "      <td>['Theo Von: No Offense was recorded at the Civ...</td>\n",
       "      <td>theo von no offense was recorded at the civic ...</td>\n",
       "      <td>Theo Von: No Offense (2016)</td>\n",
       "      <td>2016.0</td>\n",
       "      <td>Theo Von</td>\n",
       "      <td>No Offense</td>\n",
       "      <td>67.0</td>\n",
       "      <td>...</td>\n",
       "      <td>3777</td>\n",
       "      <td>1215</td>\n",
       "      <td>0.321684</td>\n",
       "      <td>0.283310</td>\n",
       "      <td>0.000627</td>\n",
       "      <td>0.003217</td>\n",
       "      <td>0.596115</td>\n",
       "      <td>0.115468</td>\n",
       "      <td>0.000599</td>\n",
       "      <td>0.000663</td>\n",
       "    </tr>\n",
       "    <tr>\n",
       "      <th>2</th>\n",
       "      <td>2</td>\n",
       "      <td>Nate Bargatze’s Nashville Christmas (2024) | T...</td>\n",
       "      <td>https://scrapsfromtheloft.com/comedy/nate-barg...</td>\n",
       "      <td>['Nate Bargatze’s Nashville Christmas is a hea...</td>\n",
       "      <td>nate bargatzes nashville christmas is a heartw...</td>\n",
       "      <td>Nate Bargatze’s Nashville Christmas (2024)</td>\n",
       "      <td>2024.0</td>\n",
       "      <td>Nate Bargatze’s</td>\n",
       "      <td>Nashville Christmas</td>\n",
       "      <td>61.0</td>\n",
       "      <td>...</td>\n",
       "      <td>2451</td>\n",
       "      <td>890</td>\n",
       "      <td>0.363117</td>\n",
       "      <td>0.185778</td>\n",
       "      <td>0.001202</td>\n",
       "      <td>0.000758</td>\n",
       "      <td>0.630959</td>\n",
       "      <td>0.179455</td>\n",
       "      <td>0.000914</td>\n",
       "      <td>0.000934</td>\n",
       "    </tr>\n",
       "    <tr>\n",
       "      <th>3</th>\n",
       "      <td>3</td>\n",
       "      <td>Your Friend, Nate Bargatze (2024) | Transcript</td>\n",
       "      <td>https://scrapsfromtheloft.com/comedy/your-frie...</td>\n",
       "      <td>['Your Friend, Nate Bargatze (2024)\\nGenre: Co...</td>\n",
       "      <td>your friend nate bargatze  comedy standupdirec...</td>\n",
       "      <td>Your Friend, Nate Bargatze (2024)</td>\n",
       "      <td>2024.0</td>\n",
       "      <td>Nate Bargatze</td>\n",
       "      <td>Your Friend,</td>\n",
       "      <td>63.0</td>\n",
       "      <td>...</td>\n",
       "      <td>2684</td>\n",
       "      <td>755</td>\n",
       "      <td>0.281297</td>\n",
       "      <td>0.038446</td>\n",
       "      <td>0.001057</td>\n",
       "      <td>0.003672</td>\n",
       "      <td>0.933593</td>\n",
       "      <td>0.020873</td>\n",
       "      <td>0.001378</td>\n",
       "      <td>0.000980</td>\n",
       "    </tr>\n",
       "    <tr>\n",
       "      <th>4</th>\n",
       "      <td>4</td>\n",
       "      <td>Ronny Chieng: Love to Hate It (2024) | Transcript</td>\n",
       "      <td>https://scrapsfromtheloft.com/comedy/ronny-chi...</td>\n",
       "      <td>['[tuning]', '[gentle Hawaiian music playing o...</td>\n",
       "      <td>tuning gentle hawaiian music playing over radi...</td>\n",
       "      <td>Ronny Chieng: Love to Hate It (2024)</td>\n",
       "      <td>2024.0</td>\n",
       "      <td>Ronny Chieng</td>\n",
       "      <td>Love to Hate It</td>\n",
       "      <td>65.0</td>\n",
       "      <td>...</td>\n",
       "      <td>3640</td>\n",
       "      <td>1197</td>\n",
       "      <td>0.328846</td>\n",
       "      <td>0.000747</td>\n",
       "      <td>0.000550</td>\n",
       "      <td>0.001193</td>\n",
       "      <td>0.463722</td>\n",
       "      <td>0.079922</td>\n",
       "      <td>0.453276</td>\n",
       "      <td>0.000589</td>\n",
       "    </tr>\n",
       "  </tbody>\n",
       "</table>\n",
       "<p>5 rows × 26 columns</p>\n",
       "</div>"
      ],
      "text/plain": [
       "   S No.                                                Tag  \\\n",
       "0      0  Michelle Buteau: Welcome to Buteaupia (2020)  ...   \n",
       "1      1           Theo Von: No Offense (2016) | Transcript   \n",
       "2      2  Nate Bargatze’s Nashville Christmas (2024) | T...   \n",
       "3      3     Your Friend, Nate Bargatze (2024) | Transcript   \n",
       "4      4  Ronny Chieng: Love to Hate It (2024) | Transcript   \n",
       "\n",
       "                                                 URL  \\\n",
       "0  https://scrapsfromtheloft.com/comedy/michelle-...   \n",
       "1  https://scrapsfromtheloft.com/comedy/theo-von-...   \n",
       "2  https://scrapsfromtheloft.com/comedy/nate-barg...   \n",
       "3  https://scrapsfromtheloft.com/comedy/your-frie...   \n",
       "4  https://scrapsfromtheloft.com/comedy/ronny-chi...   \n",
       "\n",
       "                                      Raw Transcript  \\\n",
       "0  ['Michelle Buteau’s Netflix special Welcome to...   \n",
       "1  ['Theo Von: No Offense was recorded at the Civ...   \n",
       "2  ['Nate Bargatze’s Nashville Christmas is a hea...   \n",
       "3  ['Your Friend, Nate Bargatze (2024)\\nGenre: Co...   \n",
       "4  ['[tuning]', '[gentle Hawaiian music playing o...   \n",
       "\n",
       "                                          Transcript  \\\n",
       "0  michelle buteaus netflix special welcome to bu...   \n",
       "1  theo von no offense was recorded at the civic ...   \n",
       "2  nate bargatzes nashville christmas is a heartw...   \n",
       "3  your friend nate bargatze  comedy standupdirec...   \n",
       "4  tuning gentle hawaiian music playing over radi...   \n",
       "\n",
       "                                       CleanTag    Year            Names  \\\n",
       "0  Michelle Buteau: Welcome to Buteaupia (2020)  2020.0  Michelle Buteau   \n",
       "1                   Theo Von: No Offense (2016)  2016.0         Theo Von   \n",
       "2    Nate Bargatze’s Nashville Christmas (2024)  2024.0  Nate Bargatze’s   \n",
       "3             Your Friend, Nate Bargatze (2024)  2024.0    Nate Bargatze   \n",
       "4          Ronny Chieng: Love to Hate It (2024)  2024.0     Ronny Chieng   \n",
       "\n",
       "                  Title  runtime  ...  word_count diversity diversity_ratio  \\\n",
       "0  Welcome to Buteaupia     58.0  ...        3222       833        0.258535   \n",
       "1            No Offense     67.0  ...        3777      1215        0.321684   \n",
       "2   Nashville Christmas     61.0  ...        2451       890        0.363117   \n",
       "3          Your Friend,     63.0  ...        2684       755        0.281297   \n",
       "4       Love to Hate It     65.0  ...        3640      1197        0.328846   \n",
       "\n",
       "    Culture        UK    Crimes  Situational  Immigrants  Relationships  \\\n",
       "0  0.110807  0.132198  0.006003     0.727972    0.020906       0.000970   \n",
       "1  0.283310  0.000627  0.003217     0.596115    0.115468       0.000599   \n",
       "2  0.185778  0.001202  0.000758     0.630959    0.179455       0.000914   \n",
       "3  0.038446  0.001057  0.003672     0.933593    0.020873       0.001378   \n",
       "4  0.000747  0.000550  0.001193     0.463722    0.079922       0.453276   \n",
       "\n",
       "   Politics  \n",
       "0  0.001144  \n",
       "1  0.000663  \n",
       "2  0.000934  \n",
       "3  0.000980  \n",
       "4  0.000589  \n",
       "\n",
       "[5 rows x 26 columns]"
      ]
     },
     "execution_count": 9,
     "metadata": {},
     "output_type": "execute_result"
    }
   ],
   "source": [
    "df.head()"
   ]
  },
  {
   "cell_type": "code",
   "execution_count": null,
   "metadata": {},
   "outputs": [],
   "source": []
  }
 ],
 "metadata": {
  "kernelspec": {
   "display_name": "Python 3 (ipykernel)",
   "language": "python",
   "name": "python3"
  },
  "language_info": {
   "codemirror_mode": {
    "name": "ipython",
    "version": 3
   },
   "file_extension": ".py",
   "mimetype": "text/x-python",
   "name": "python",
   "nbconvert_exporter": "python",
   "pygments_lexer": "ipython3",
   "version": "3.11.4"
  }
 },
 "nbformat": 4,
 "nbformat_minor": 4
}
